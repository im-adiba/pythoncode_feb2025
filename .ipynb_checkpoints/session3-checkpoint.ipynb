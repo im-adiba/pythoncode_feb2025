{
 "cells": [
  {
   "cell_type": "markdown",
   "id": "59151e72-523e-4928-8e16-d8f3868b1b0d",
   "metadata": {},
   "source": [
    "* Variables"
   ]
  },
  {
   "cell_type": "code",
   "execution_count": 2,
   "id": "91c2ee0f-f514-47a5-a3fe-cd5aa37a0c1b",
   "metadata": {},
   "outputs": [
    {
     "data": {
      "text/plain": [
       "100"
      ]
     },
     "execution_count": 2,
     "metadata": {},
     "output_type": "execute_result"
    }
   ],
   "source": [
    "number=100\n",
    "number"
   ]
  },
  {
   "cell_type": "code",
   "execution_count": 4,
   "id": "20788d25-8cad-4420-a4d7-15f8b1788e9b",
   "metadata": {},
   "outputs": [
    {
     "data": {
      "text/plain": [
       "200"
      ]
     },
     "execution_count": 4,
     "metadata": {},
     "output_type": "execute_result"
    }
   ],
   "source": [
    "NUMBER=200\n",
    "NUMBER"
   ]
  },
  {
   "cell_type": "code",
   "execution_count": 6,
   "id": "99dd323d-58b3-4ebe-8069-d9e19d643727",
   "metadata": {},
   "outputs": [
    {
     "data": {
      "text/plain": [
       "300"
      ]
     },
     "execution_count": 6,
     "metadata": {},
     "output_type": "execute_result"
    }
   ],
   "source": [
    "NUMber=300\n",
    "NUMber"
   ]
  },
  {
   "cell_type": "code",
   "execution_count": 8,
   "id": "fe09c702-03a8-4b00-a5e2-8ca0644dbe35",
   "metadata": {},
   "outputs": [
    {
     "data": {
      "text/plain": [
       "(100, 200, 300)"
      ]
     },
     "execution_count": 8,
     "metadata": {},
     "output_type": "execute_result"
    }
   ],
   "source": [
    "number, NUMBER, NUMber"
   ]
  },
  {
   "cell_type": "code",
   "execution_count": 10,
   "id": "1760183b-024e-4623-8220-60ff66f49658",
   "metadata": {},
   "outputs": [
    {
     "data": {
      "text/plain": [
       "400"
      ]
     },
     "execution_count": 10,
     "metadata": {},
     "output_type": "execute_result"
    }
   ],
   "source": [
    "number123=400\n",
    "number123"
   ]
  },
  {
   "cell_type": "markdown",
   "id": "fa7d5edb-1763-4387-8172-2603b25cbe62",
   "metadata": {},
   "source": [
    "**Note**:\n",
    "- Variables generally in black color\n",
    "- grenn color should not be a variables\n",
    "- numbers assuffix can work \n",
    "- number as prefix fail"
   ]
  },
  {
   "cell_type": "code",
   "execution_count": 15,
   "id": "f700ebad-3dbc-4cee-8c46-fd9b0cb69890",
   "metadata": {},
   "outputs": [
    {
     "ename": "SyntaxError",
     "evalue": "invalid syntax (2198478798.py, line 1)",
     "output_type": "error",
     "traceback": [
      "\u001b[1;36m  Cell \u001b[1;32mIn[15], line 1\u001b[1;36m\u001b[0m\n\u001b[1;33m    number$=600\u001b[0m\n\u001b[1;37m          ^\u001b[0m\n\u001b[1;31mSyntaxError\u001b[0m\u001b[1;31m:\u001b[0m invalid syntax\n"
     ]
    }
   ],
   "source": [
    "number$=600\n",
    "Number$"
   ]
  },
  {
   "cell_type": "markdown",
   "id": "a075c355-c725-4570-870b-79fa5c7ff14d",
   "metadata": {},
   "source": [
    "- spl charcters  does not allowed"
   ]
  },
  {
   "cell_type": "markdown",
   "id": "31a09403-701d-41d2-aacc-59fed178f6cb",
   "metadata": {},
   "source": [
    "- underscore can use as variable"
   ]
  },
  {
   "cell_type": "code",
   "execution_count": 22,
   "id": "f430dc56-d7af-4240-a90d-6b41d7f53c2a",
   "metadata": {},
   "outputs": [
    {
     "data": {
      "text/plain": [
       "800"
      ]
     },
     "execution_count": 22,
     "metadata": {},
     "output_type": "execute_result"
    }
   ],
   "source": [
    "number_one=800\n",
    "number_one"
   ]
  },
  {
   "cell_type": "markdown",
   "id": "81a562a9-550f-4d29-b193-71be3bb1bf38",
   "metadata": {},
   "source": [
    "**keywords can not use as Variables**"
   ]
  },
  {
   "cell_type": "code",
   "execution_count": null,
   "id": "a2a38d3c-6d7b-42f8-bedb-d06dd9f3a78e",
   "metadata": {},
   "outputs": [],
   "source": []
  }
 ],
 "metadata": {
  "kernelspec": {
   "display_name": "Python [conda env:base] *",
   "language": "python",
   "name": "conda-base-py"
  },
  "language_info": {
   "codemirror_mode": {
    "name": "ipython",
    "version": 3
   },
   "file_extension": ".py",
   "mimetype": "text/x-python",
   "name": "python",
   "nbconvert_exporter": "python",
   "pygments_lexer": "ipython3",
   "version": "3.12.7"
  }
 },
 "nbformat": 4,
 "nbformat_minor": 5
}
