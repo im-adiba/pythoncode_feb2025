{
 "cells": [
  {
   "cell_type": "markdown",
   "id": "b3242e94-c451-489a-8282-553536a61dc7",
   "metadata": {},
   "source": [
    "##conditiona statements\n",
    "- conditional statements are used to execute the code based on some conditional\n",
    "- assume a statement\n",
    "   - if rain comes i will stay at hostek\n",
    "   - if rain comes i will stay at hostel otherwise i will go to play cricket\n",
    "   - if rain comes i will stay at hostel otherwise i will go to ground but if omkar sir call i will go to naresh it\n",
    "\n",
    "- if rain comes i will stay at hostel else i will go to play cricket\n",
    "  - if\n",
    "  - if-else\n",
    "  - if-elif-else"
   ]
  },
  {
   "cell_type": "code",
   "execution_count": null,
   "id": "6e77259b-4dd4-4a9e-add9-b4b73b4d8591",
   "metadata": {},
   "outputs": [],
   "source": [
    "**case 1 "
   ]
  },
  {
   "cell_type": "code",
   "execution_count": 28,
   "id": "e06b88f1-1168-4b80-94e0-973e650acc0a",
   "metadata": {},
   "outputs": [
    {
     "ename": "SyntaxError",
     "evalue": "incomplete input (349986144.py, line 4)",
     "output_type": "error",
     "traceback": [
      "\u001b[1;36m  Cell \u001b[1;32mIn[28], line 4\u001b[1;36m\u001b[0m\n\u001b[1;33m    #then python will go inside the if  area then the lines will be execute\u001b[0m\n\u001b[1;37m                                                                           ^\u001b[0m\n\u001b[1;31mSyntaxError\u001b[0m\u001b[1;31m:\u001b[0m incomplete input\n"
     ]
    }
   ],
   "source": [
    "if (condition):\n",
    "    # write your code here\n",
    "#whenever the codition is True\n",
    "#then python will go inside the if  area then the lines will be execute"
   ]
  },
  {
   "cell_type": "code",
   "execution_count": 10,
   "id": "68255bbe-f7d6-4f58-8290-6844d74c8126",
   "metadata": {},
   "outputs": [
    {
     "name": "stdout",
     "output_type": "stream",
     "text": [
      "False\n",
      "True\n",
      "False\n",
      "False\n",
      "False\n",
      "True\n",
      "False\n",
      "True\n",
      "True\n",
      "True\n"
     ]
    }
   ],
   "source": [
    "num=10 # assignment 10 is a value stored in a variable name \n",
    "print(num==100)# F # condition check num value equal to 10\n",
    "print(num==10)\n",
    "print(num>10)\n",
    "print(num<10)\n",
    "print(num>100)\n",
    "print(num<100)\n",
    "print(num>=100)\n",
    "print(num<=100)\n",
    "print(num>=10)\n",
    "print(num<=10)"
   ]
  },
  {
   "cell_type": "code",
   "execution_count": 12,
   "id": "06a87354-ba9a-4661-96cc-1dfc90c2db15",
   "metadata": {},
   "outputs": [
    {
     "name": "stdout",
     "output_type": "stream",
     "text": [
      "hello\n"
     ]
    }
   ],
   "source": [
    "if 100>10:\n",
    "    print('hello')\n",
    "#step-1: 100>10 true\n",
    "#step-2: hello"
   ]
  },
  {
   "cell_type": "markdown",
   "id": "943768ba-dc19-46ed-92a2-5091ebd4363a",
   "metadata": {},
   "source": [
    "**mistake-1**\n",
    "\n",
    "**indentation error**\n",
    "- whenever a line start with keyword at lat : will be there\n",
    "- whenever : there then we have indenatation"
   ]
  },
  {
   "cell_type": "code",
   "execution_count": 18,
   "id": "f02cd66e-dc98-423a-8ef5-d6fb222bef25",
   "metadata": {},
   "outputs": [
    {
     "name": "stdout",
     "output_type": "stream",
     "text": [
      "hello\n"
     ]
    }
   ],
   "source": [
    "if 100>10:\n",
    "    print('hello')"
   ]
  },
  {
   "cell_type": "markdown",
   "id": "a960dc3f-88dc-4181-8b26-87dc59d5089c",
   "metadata": {},
   "source": [
    "**mistake-2**"
   ]
  },
  {
   "cell_type": "code",
   "execution_count": 12,
   "id": "04a481ba-010f-436a-8489-c1805ee8b097",
   "metadata": {},
   "outputs": [
    {
     "name": "stdout",
     "output_type": "stream",
     "text": [
      "hello\n"
     ]
    }
   ],
   "source": [
    "if 100>10:\n",
    "    print('hello') "
   ]
  },
  {
   "cell_type": "code",
   "execution_count": 27,
   "id": "2e1ec41b-d85e-49d7-8042-975cfb5a3252",
   "metadata": {},
   "outputs": [],
   "source": [
    "if 100<10:\n",
    "    print('hello')\n",
    "# step-1: 100<10 false"
   ]
  },
  {
   "cell_type": "code",
   "execution_count": 29,
   "id": "aa2ae4e1-7406-4b2d-a49c-161ee2427a5a",
   "metadata": {},
   "outputs": [
    {
     "name": "stdout",
     "output_type": "stream",
     "text": [
      "hello\n"
     ]
    }
   ],
   "source": [
    "if 100>10:\n",
    "    print('hello')"
   ]
  },
  {
   "cell_type": "code",
   "execution_count": 33,
   "id": "abdc4ac5-6327-4c57-b844-7625f548eaaa",
   "metadata": {},
   "outputs": [],
   "source": [
    "if False:\n",
    "    print('hello')"
   ]
  },
  {
   "cell_type": "code",
   "execution_count": 39,
   "id": "227e1e49-0273-4e70-b3a2-b49046a59b5c",
   "metadata": {},
   "outputs": [
    {
     "name": "stdout",
     "output_type": "stream",
     "text": [
      "hello\n",
      "hello\n",
      "hello\n"
     ]
    }
   ],
   "source": [
    "if bool(100):\n",
    "    print('hello')\n",
    "if 100>10:\n",
    "    print('hello')\n",
    "if 100>=10:\n",
    "    print('hello')"
   ]
  },
  {
   "cell_type": "code",
   "execution_count": 43,
   "id": "8061d248-0a37-42b7-b51b-e0d837b5d031",
   "metadata": {},
   "outputs": [
    {
     "name": "stdout",
     "output_type": "stream",
     "text": [
      "hello\n",
      "hai\n",
      "im with condition bye\n",
      "im with out condition bye\n"
     ]
    }
   ],
   "source": [
    "##############################\n",
    "if 100>10:\n",
    "    print('hello')\n",
    "    print('hai')\n",
    "    print('im with condition bye')\n",
    "##################\n",
    "print('im with out condition bye')"
   ]
  },
  {
   "cell_type": "code",
   "execution_count": 45,
   "id": "884c2d7f-88a4-4d80-a42c-b7bb2013a916",
   "metadata": {},
   "outputs": [
    {
     "name": "stdout",
     "output_type": "stream",
     "text": [
      "im with out condition bye\n"
     ]
    }
   ],
   "source": [
    "if 100<10:\n",
    "    print('hello')\n",
    "    print('hai')\n",
    "    print('im with condition bye')\n",
    "##################\n",
    "print('im with out condition bye')"
   ]
  },
  {
   "cell_type": "code",
   "execution_count": 47,
   "id": "104243c6-73e3-4552-8871-eef28a8eee3a",
   "metadata": {},
   "outputs": [
    {
     "name": "stdout",
     "output_type": "stream",
     "text": [
      "1\n",
      "2\n",
      "hello\n",
      "hai\n",
      "im with condition bye\n",
      "im with out condition bye\n"
     ]
    }
   ],
   "source": [
    "print(1)\n",
    "print(2)\n",
    "#############################\n",
    "if 100>10:\n",
    "    print('hello')\n",
    "    print('hai')\n",
    "    print('im with condition bye')\n",
    "##################\n",
    "print('im with out condition bye')"
   ]
  },
  {
   "cell_type": "code",
   "execution_count": 49,
   "id": "f1f73867-057b-4b62-a5c6-c901a3337748",
   "metadata": {},
   "outputs": [
    {
     "name": "stdout",
     "output_type": "stream",
     "text": [
      "1\n",
      "2\n",
      "hello\n",
      "hai\n",
      "im with condition bye\n",
      "im with out condition bye\n",
      "1\n",
      "2\n",
      "im with out condition bye\n"
     ]
    }
   ],
   "source": [
    "print(1)\n",
    "print(2)\n",
    "#############################\n",
    "if 100>10:\n",
    "    print('hello')\n",
    "    print('hai')\n",
    "    print('im with condition bye')\n",
    "##################\n",
    "print('im with out condition bye')\n",
    "######################################\n",
    "print(1)\n",
    "print(2)\n",
    "#############################\n",
    "if 100<10:\n",
    "    print('hello')\n",
    "    print('hai')\n",
    "    print('im with condition bye')\n",
    "##################\n",
    "print('im with out condition bye')"
   ]
  },
  {
   "cell_type": "markdown",
   "id": "80660408-955d-438d-b385-36f29bd40f11",
   "metadata": {},
   "source": [
    "if <con>: \n",
    "    <write our code here>"
   ]
  },
  {
   "cell_type": "code",
   "execution_count": null,
   "id": "765c9b8a-bd50-4b5a-aeba-4abd7b4988ce",
   "metadata": {},
   "outputs": [],
   "source": [
    "**case-2: if-else**"
   ]
  },
  {
   "cell_type": "markdown",
   "id": "f2143734-7c8b-45e2-9b64-bb8e06fd239c",
   "metadata": {},
   "source": [
    "- if condition is True then if statement will execute \n",
    "- if condition is False the else statements will execute\n",
    "- one condition two outputs.\n",
    "- if needs condition but not else"
   ]
  },
  {
   "cell_type": "code",
   "execution_count": 8,
   "id": "db92cc83-fb98-43d4-a534-4b75e6189a56",
   "metadata": {},
   "outputs": [],
   "source": [
    "#syntax\n",
    "# if <condition>:\n",
    "#     <write your code here>\n",
    "# else:\n",
    "#     <write your code here>"
   ]
  },
  {
   "cell_type": "code",
   "execution_count": 11,
   "id": "6268c3fb-a4d5-41c8-92c9-dd79121d96ea",
   "metadata": {},
   "outputs": [
    {
     "name": "stdout",
     "output_type": "stream",
     "text": [
      "hello\n"
     ]
    }
   ],
   "source": [
    "friend='yes'\n",
    "if friend=='yes':\n",
    "    print('hello')"
   ]
  },
  {
   "cell_type": "code",
   "execution_count": 13,
   "id": "6a3ec868-af8b-4eaa-ab72-9f8ba06114f1",
   "metadata": {},
   "outputs": [
    {
     "name": "stdout",
     "output_type": "stream",
     "text": [
      "30\n"
     ]
    }
   ],
   "source": [
    "if 100>0:\n",
    "    a=14\n",
    "    b=16\n",
    "    c=a+b\n",
    "    print(c)"
   ]
  },
  {
   "cell_type": "code",
   "execution_count": 15,
   "id": "f7de7742-275e-4ff0-8a05-d32a81117ac1",
   "metadata": {},
   "outputs": [
    {
     "name": "stdout",
     "output_type": "stream",
     "text": [
      "positive number\n"
     ]
    }
   ],
   "source": [
    "if 100>0:\n",
    "    print('positive number')\n",
    "else:\n",
    "    print('negative number')"
   ]
  },
  {
   "cell_type": "code",
   "execution_count": 17,
   "id": "89934941-7cfb-480a-a2ed-76d9e18e9ec8",
   "metadata": {},
   "outputs": [
    {
     "name": "stdin",
     "output_type": "stream",
     "text": [
      "enter the number: -100\n"
     ]
    },
    {
     "name": "stdout",
     "output_type": "stream",
     "text": [
      "negative number\n"
     ]
    }
   ],
   "source": [
    "n=eval(input('enter the number:'))\n",
    "if n>0:\n",
    "    print('positive number')\n",
    "else:\n",
    "    print('negative number')"
   ]
  },
  {
   "cell_type": "code",
   "execution_count": 21,
   "id": "f8b42e5f-de8b-437d-9040-a4f96f6f64fd",
   "metadata": {},
   "outputs": [
    {
     "name": "stdout",
     "output_type": "stream",
     "text": [
      "-57 is a negative number\n"
     ]
    }
   ],
   "source": [
    "import random\n",
    "n=random.randint(-100,100)\n",
    "if n>0:\n",
    "    print(f'{n} is a positive number')\n",
    "else:\n",
    "    print(f'{n} is a negative number')"
   ]
  },
  {
   "cell_type": "code",
   "execution_count": 23,
   "id": "5a571bd3-b0c7-44e1-b1f4-775736b1abd0",
   "metadata": {},
   "outputs": [
    {
     "name": "stdout",
     "output_type": "stream",
     "text": [
      "positive number\n",
      "positive number\n"
     ]
    },
    {
     "name": "stdin",
     "output_type": "stream",
     "text": [
      "enter the number: 100\n"
     ]
    },
    {
     "name": "stdout",
     "output_type": "stream",
     "text": [
      "positive number\n",
      "52 is a positive number\n"
     ]
    }
   ],
   "source": [
    "if 100>0:\n",
    "    print('positive number')\n",
    "else:\n",
    "    print('negative number')\n",
    "##################################################\n",
    "n=100\n",
    "if n>0:\n",
    "    print('positive number')\n",
    "else:\n",
    "    print('negative number')\n",
    "####################################################\n",
    "n=eval(input('enter the number:'))\n",
    "if n>0:\n",
    "    print('positive number')\n",
    "else:\n",
    "    print('negative number')\n",
    "##################################################\n",
    "import random\n",
    "n=random.randint(-100,100)\n",
    "if n>0:\n",
    "    print(f'{n} is a positive number')\n",
    "else:\n",
    "    print(f'{n} is a negative number')"
   ]
  },
  {
   "cell_type": "code",
   "execution_count": 29,
   "id": "b15812e6-0b19-4db6-960c-bf0ab51adb0d",
   "metadata": {},
   "outputs": [
    {
     "name": "stdout",
     "output_type": "stream",
     "text": [
      "hello\n",
      "positive number\n",
      "condition is true\n"
     ]
    }
   ],
   "source": [
    "print('hello')\n",
    "if 100>0:\n",
    "    print('positive number')\n",
    "    print('condition is true')\n",
    "else:\n",
    "    print('negative number')\n",
    "    print('condition is false')"
   ]
  },
  {
   "cell_type": "code",
   "execution_count": 10,
   "id": "cd3f2bd8-1d93-45da-992a-e594edef098a",
   "metadata": {},
   "outputs": [
    {
     "name": "stdout",
     "output_type": "stream",
     "text": [
      "hello\n",
      "positive number\n",
      "condition is true\n",
      "why are you in middle\n",
      "bye\n"
     ]
    }
   ],
   "source": [
    "print('hello')\n",
    "if 100>0:\n",
    "    print('positive number')\n",
    "    print('condition is true')\n",
    "    print('why are you in middle')\n",
    "else:\n",
    "    print('negative number')\n",
    "    print('condition is false')\n",
    "print('bye')\n",
    "\n",
    "# if-else should come together\n",
    "#"
   ]
  },
  {
   "cell_type": "code",
   "execution_count": 33,
   "id": "bb8007cc-c414-4a29-b9b4-7fed397e7fb6",
   "metadata": {},
   "outputs": [
    {
     "name": "stdin",
     "output_type": "stream",
     "text": [
      " 100\n",
      " 20\n"
     ]
    },
    {
     "name": "stdout",
     "output_type": "stream",
     "text": [
      "100 is the greatest number\n"
     ]
    }
   ],
   "source": [
    "# wap ask the user enter two numbers\n",
    "#find the greatest number\n",
    "\n",
    "n1= eval(input())\n",
    "n2= eval(input())\n",
    "if n1>n2:\n",
    "    print(f'{n1} is the greatest number')\n",
    "else:\n",
    "    print(f'{n2}is the greatest number')"
   ]
  },
  {
   "cell_type": "code",
   "execution_count": 35,
   "id": "e6c89764-9241-49f0-a2f1-50bcfa5e3e0e",
   "metadata": {},
   "outputs": [
    {
     "name": "stdout",
     "output_type": "stream",
     "text": [
      "n1:82 is the greatest number\n"
     ]
    }
   ],
   "source": [
    "import random\n",
    "n1= random.randint(1,100)\n",
    "n2= random.randint(1,100)\n",
    "if n1>n2:\n",
    "    print(f'n1:{n1} is the greatest number')\n",
    "else:\n",
    "    print(f'n2:{n2}is the greatest number')"
   ]
  },
  {
   "cell_type": "code",
   "execution_count": 47,
   "id": "525e7c3c-52ed-46a9-b468-5854b0b84ffe",
   "metadata": {},
   "outputs": [
    {
     "name": "stdin",
     "output_type": "stream",
     "text": [
      "enter the distance 10\n"
     ]
    },
    {
     "name": "stdout",
     "output_type": "stream",
     "text": [
      "the ride is free\n"
     ]
    }
   ],
   "source": [
    "# wap ask the userenter distance\n",
    "#if distance than 25km\n",
    "#then ask the charge per km\n",
    "#the calculate total charge\n",
    "#otherwise print free ride\n",
    "\n",
    "n= eval(input('enter the distance'))\n",
    "if n>25:\n",
    "    charge= eval(input('enter the charge per km:'))\n",
    "    totalcharge=n*charge\n",
    "    print(\"the total charge is: {totalcharge} inr\")\n",
    "else:\n",
    "    print(f'the ride is free')"
   ]
  },
  {
   "cell_type": "code",
   "execution_count": 59,
   "id": "b10123d9-f735-4dfc-9ef3-1c11d86c72a9",
   "metadata": {},
   "outputs": [
    {
     "name": "stdin",
     "output_type": "stream",
     "text": [
      "enter the distance 50\n",
      "enter the free distance 25\n",
      "enter the charge per km: 5\n"
     ]
    },
    {
     "name": "stdout",
     "output_type": "stream",
     "text": [
      "the total charge is: 125 inr\n"
     ]
    }
   ],
   "source": [
    "n= eval(input('enter the distance'))\n",
    "free_distance= eval(input('enter the free distance'))\n",
    "if n>free_distance:\n",
    "    charge= eval(input('enter the charge per km:'))\n",
    "    actual_distance= n-free_distance\n",
    "    total_charge= actual_distance*charge\n",
    "    print(f\"the total charge is: {total_charge} inr\")\n",
    "else:\n",
    "    print(f'the ride is free')"
   ]
  },
  {
   "cell_type": "code",
   "execution_count": 61,
   "id": "3fd0b270-9715-4373-b551-7b57e3fa88a4",
   "metadata": {},
   "outputs": [
    {
     "name": "stdin",
     "output_type": "stream",
     "text": [
      "enter the distance 10\n",
      "enter the free distance 25\n"
     ]
    },
    {
     "name": "stdout",
     "output_type": "stream",
     "text": [
      "the ride is free\n"
     ]
    }
   ],
   "source": [
    "n= eval(input('enter the distance'))\n",
    "free_distance= eval(input('enter the free distance'))\n",
    "if n>free_distance:\n",
    "    charge= eval(input('enter the charge per km:'))\n",
    "    actual_distance= n-free_distance\n",
    "    total_charge= actual_distance*charge\n",
    "    print(f\"the total charge is: {total_charge} inr\")\n",
    "else:\n",
    "    print(f'the ride is free')"
   ]
  },
  {
   "cell_type": "code",
   "execution_count": 73,
   "id": "f4e8ea98-a9aa-4982-98c4-37f1c4f24c81",
   "metadata": {},
   "outputs": [
    {
     "name": "stdin",
     "output_type": "stream",
     "text": [
      " 5\n"
     ]
    },
    {
     "name": "stdout",
     "output_type": "stream",
     "text": [
      "lucky: you won\n"
     ]
    }
   ],
   "source": [
    "#Q4)\n",
    "#wap ask the user enter a number from keyborad n1\n",
    "#ask the user get a random number bertween 1,10 n2\n",
    "#if n1 equalto n2 print you won\n",
    "#otherwise print you lost\n",
    "\n",
    "import random\n",
    "n1=eval(input())\n",
    "n2= random.randint(1,10)\n",
    "if n1==n2:\n",
    "    print('lucky: you won')\n",
    "else:\n",
    "    print('lucky lucky: you lost better luck next time')"
   ]
  },
  {
   "cell_type": "code",
   "execution_count": 30,
   "id": "ff786273-9d3a-44fc-b27b-d425000999f4",
   "metadata": {},
   "outputs": [],
   "source": [
    "#Q5)\n",
    "# Course name= Data science\n",
    "#insti name= Naresh IT\n",
    "\n",
    "#Ask the user enter course_name\n",
    "#             user enter insti_name\n",
    "#if course_nameequal to data_science      "
   ]
  },
  {
   "cell_type": "code",
   "execution_count": 32,
   "id": "c8139c60-ba00-4b1d-81b6-5d5b1361fdc4",
   "metadata": {},
   "outputs": [],
   "source": [
    "#wap ask the use enter of marks"
   ]
  },
  {
   "cell_type": "code",
   "execution_count": 50,
   "id": "f02cd7bc-7afa-4e9c-8660-2fb40ea26ab3",
   "metadata": {},
   "outputs": [
    {
     "name": "stdin",
     "output_type": "stream",
     "text": [
      "enter the percentage of marks: 35\n"
     ]
    },
    {
     "name": "stdout",
     "output_type": "stream",
     "text": [
      "D grade\n"
     ]
    }
   ],
   "source": [
    "n=eval(input(\"enter the percentage of marks:\"))\n",
    "if (n>=90):\n",
    "    print('A grade')\n",
    "elif (n>=70 and n<90):\n",
    "    print('B grade')\n",
    "elif (n>=50 and n<70):\n",
    "    print('C grade')\n",
    "elif (n>=35 and n<50):\n",
    "    print('D grade')\n",
    "else:\n",
    "    print('fail')"
   ]
  },
  {
   "cell_type": "raw",
   "id": "b867a6d4-2b4f-4169-a529-da0b5e579f9e",
   "metadata": {},
   "source": [
    "n=eval(input('enter age:'))\n",
    "if ()"
   ]
  },
  {
   "cell_type": "code",
   "execution_count": 54,
   "id": "0d02cc2a-0ccd-43ca-a2ce-12e011576451",
   "metadata": {},
   "outputs": [],
   "source": [
    "#wap ask the user enter gender\n",
    "# \n"
   ]
  },
  {
   "cell_type": "code",
   "execution_count": 70,
   "id": "64f4729a-bd0e-4fc6-a131-99e386e04004",
   "metadata": {},
   "outputs": [
    {
     "name": "stdin",
     "output_type": "stream",
     "text": [
      "enter gender: male\n"
     ]
    },
    {
     "ename": "NameError",
     "evalue": "name 'male' is not defined",
     "output_type": "error",
     "traceback": [
      "\u001b[1;31m---------------------------------------------------------------------------\u001b[0m",
      "\u001b[1;31mNameError\u001b[0m                                 Traceback (most recent call last)",
      "Cell \u001b[1;32mIn[70], line 1\u001b[0m\n\u001b[1;32m----> 1\u001b[0m gender\u001b[38;5;241m=\u001b[39m\u001b[38;5;28meval\u001b[39m(\u001b[38;5;28minput\u001b[39m(\u001b[38;5;124m\"\u001b[39m\u001b[38;5;124menter gender:\u001b[39m\u001b[38;5;124m\"\u001b[39m))\n\u001b[0;32m      2\u001b[0m \u001b[38;5;28;01mif\u001b[39;00m (gender\u001b[38;5;241m==\u001b[39m male):\n\u001b[0;32m      3\u001b[0m     \u001b[38;5;28mprint\u001b[39m(\u001b[38;5;124m'\u001b[39m\u001b[38;5;124mmale\u001b[39m\u001b[38;5;124m'\u001b[39m)\n",
      "File \u001b[1;32m<string>:1\u001b[0m\n",
      "\u001b[1;31mNameError\u001b[0m: name 'male' is not defined"
     ]
    }
   ],
   "source": [
    "gender=eval(input(\"enter gender:\"))\n",
    "if (gender== male):\n",
    "    age= eval(input(\"enter age:\"))\n",
    "    if (age>=60):\n",
    "        print('senior citizen')\n",
    "    elif(age>=30 and age<60):\n",
    "        print('middle age man')\n",
    "    elif(age>=15 and age<30):\n",
    "        print('young man')\n",
    "    else:\n",
    "        print('boy')\n",
    "elif (gender== female):\n",
    "    age= eval(input(\"enter age:\"))\n",
    "    if (age>=60):\n",
    "        print('senior citizen')\n",
    "    elif(age>=30 and age<60):\n",
    "        print('middle age woman')\n",
    "    elif(age>=15 and age<30):\n",
    "        print('young woman')\n",
    "    else:\n",
    "        print('girl')\n",
    "else:\n",
    "    print('enter a vaild gender')"
   ]
  },
  {
   "cell_type": "code",
   "execution_count": null,
   "id": "229537ff-045d-4a45-96fd-2304f4cc11b7",
   "metadata": {},
   "outputs": [],
   "source": [
    "a=eval(input(nunber))\n",
    "if(a=1):\n",
    "    "
   ]
  }
 ],
 "metadata": {
  "kernelspec": {
   "display_name": "Python [conda env:base] *",
   "language": "python",
   "name": "conda-base-py"
  },
  "language_info": {
   "codemirror_mode": {
    "name": "ipython",
    "version": 3
   },
   "file_extension": ".py",
   "mimetype": "text/x-python",
   "name": "python",
   "nbconvert_exporter": "python",
   "pygments_lexer": "ipython3",
   "version": "3.12.7"
  }
 },
 "nbformat": 4,
 "nbformat_minor": 5
}
