{
 "cells": [
  {
   "cell_type": "code",
   "execution_count": 3,
   "id": "2f2144b5-62cd-44d3-a7f5-25319ebaa759",
   "metadata": {},
   "outputs": [
    {
     "data": {
      "text/plain": [
       "20"
      ]
     },
     "execution_count": 3,
     "metadata": {},
     "output_type": "execute_result"
    }
   ],
   "source": [
    "a=10\n",
    "b=20\n",
    "a\n",
    "b"
   ]
  },
  {
   "cell_type": "code",
   "execution_count": 5,
   "id": "5f769c5a-fbf1-491a-af84-b86f911c7b0c",
   "metadata": {},
   "outputs": [
    {
     "name": "stdout",
     "output_type": "stream",
     "text": [
      "10\n",
      "20\n"
     ]
    }
   ],
   "source": [
    "a=10\n",
    "b=20\n",
    "print(a)\n",
    "print(b)"
   ]
  },
  {
   "cell_type": "code",
   "execution_count": 7,
   "id": "c1e9ca17-dc88-4b4c-9063-a11f23135e4e",
   "metadata": {},
   "outputs": [
    {
     "name": "stdout",
     "output_type": "stream",
     "text": [
      "10\n",
      "20\n"
     ]
    }
   ],
   "source": [
    "print(a)\n",
    "print(b)"
   ]
  },
  {
   "cell_type": "code",
   "execution_count": 9,
   "id": "1705dfb3-ea36-46e0-877f-dcc811302670",
   "metadata": {},
   "outputs": [
    {
     "name": "stdout",
     "output_type": "stream",
     "text": [
      "10\n",
      "20\n"
     ]
    },
    {
     "data": {
      "text/plain": [
       "(None, None)"
      ]
     },
     "execution_count": 9,
     "metadata": {},
     "output_type": "execute_result"
    }
   ],
   "source": [
    "print(a),print(20)"
   ]
  },
  {
   "cell_type": "code",
   "execution_count": 11,
   "id": "eba12e9a-74fd-41c5-bf2b-0b56e0992c25",
   "metadata": {},
   "outputs": [
    {
     "data": {
      "text/plain": [
       "(10, 20)"
      ]
     },
     "execution_count": 11,
     "metadata": {},
     "output_type": "execute_result"
    }
   ],
   "source": [
    "10,20"
   ]
  },
  {
   "cell_type": "code",
   "execution_count": 13,
   "id": "304312f1-b842-410f-b98a-54e44b537ed0",
   "metadata": {},
   "outputs": [
    {
     "name": "stdout",
     "output_type": "stream",
     "text": [
      "10 20\n"
     ]
    }
   ],
   "source": [
    "print(a,b)"
   ]
  },
  {
   "cell_type": "code",
   "execution_count": 15,
   "id": "13d5f896-c1d5-42e5-86c7-dddd3847fc18",
   "metadata": {},
   "outputs": [
    {
     "name": "stdout",
     "output_type": "stream",
     "text": [
      "30 Nareshit Hyd\n"
     ]
    }
   ],
   "source": [
    "print(30,'Nareshit','Hyd')"
   ]
  },
  {
   "cell_type": "code",
   "execution_count": 25,
   "id": "d56d775e-a17c-48be-89bc-2e3b7a27f6b2",
   "metadata": {},
   "outputs": [
    {
     "name": "stdout",
     "output_type": "stream",
     "text": [
      "the addtion of100 and 200 is 300\n",
      "the addtion of100 and 200 is 300\n",
      "the addtion of 100 and 200 is 300\n"
     ]
    }
   ],
   "source": [
    "num1=100\n",
    "num2=200\n",
    "add=num1+num2\n",
    "# the addtion of100 and 200 is 300\n",
    "print(\"the addtion of100 and 200 is 300\")\n",
    "print(\"the addtion of100 and 200 is 300\")\n",
    "print(\"the addtion of\", num1, \"and\", num2, \"is\", add)"
   ]
  },
  {
   "cell_type": "code",
   "execution_count": 27,
   "id": "7fffa874-8a2e-47e8-b107-c5c28f6a58c0",
   "metadata": {},
   "outputs": [
    {
     "name": "stdout",
     "output_type": "stream",
     "text": [
      "the addtion of100 and 200 is 300\n",
      "the addtion of100 and 200 is 300\n",
      "the addtion of 1000 and 200 is 1200\n"
     ]
    }
   ],
   "source": [
    "num1=1000\n",
    "num2=200\n",
    "add=num1+num2\n",
    "# the addtion of100 and 200 is 300\n",
    "print(\"the addtion of100 and 200 is 300\")\n",
    "print(\"the addtion of100 and 200 is 300\")\n",
    "print(\"the addtion of\", num1, \"and\", num2, \"is\", add)"
   ]
  },
  {
   "cell_type": "code",
   "execution_count": 35,
   "id": "ba613883-baae-49dd-bacd-08c505a740cc",
   "metadata": {},
   "outputs": [
    {
     "name": "stdout",
     "output_type": "stream",
     "text": [
      "my name is python im 10 years old and came from hyd\n"
     ]
    }
   ],
   "source": [
    "name=\"python\"\n",
    "age=10\n",
    "city=\"hyd\"\n",
    "# my name is python im 10 years old and came from hyd\n",
    "print(\"my name is\", name, \"im\", age, \"years old and came from\", city)"
   ]
  },
  {
   "cell_type": "markdown",
   "id": "23e0a8d0-0baa-4421-9432-18ee5fa8fe9c",
   "metadata": {},
   "source": [
    "**format method**"
   ]
  },
  {
   "cell_type": "code",
   "execution_count": 42,
   "id": "3152bab0-b0b3-4f30-bfd7-72397787b666",
   "metadata": {},
   "outputs": [
    {
     "name": "stdout",
     "output_type": "stream",
     "text": [
      "my name is python im 10 years old and came from hyd\n"
     ]
    }
   ],
   "source": [
    "name=\"python\"\n",
    "age=10\n",
    "city=\"hyd\"\n",
    "# my name is python im 10 years old and came from hyd\n",
    "print(\"my name is {} im {} years old and came from {}\".format(name,age,city))\n",
    "# order is must important to get the correct answer"
   ]
  },
  {
   "cell_type": "code",
   "execution_count": 44,
   "id": "30927dca-27ba-4fb0-af2e-4a23b3ca730b",
   "metadata": {},
   "outputs": [
    {
     "name": "stdout",
     "output_type": "stream",
     "text": [
      "my name is hyd im python years old and came from 10\n"
     ]
    }
   ],
   "source": [
    "name=\"python\"\n",
    "age=10\n",
    "city=\"hyd\"\n",
    "# my name is python im 10 years old and came from hyd\n",
    "print(\"my name is {} im {} years old and came from {}\".format(city,name,age))"
   ]
  },
  {
   "cell_type": "code",
   "execution_count": 48,
   "id": "16f36220-ad0e-4659-8b21-4707b8cc04ea",
   "metadata": {},
   "outputs": [
    {
     "name": "stdout",
     "output_type": "stream",
     "text": [
      "the addtion of100 and 200 is 300\n",
      "the addtion of1000 and200 is 1200\n"
     ]
    }
   ],
   "source": [
    "num1=1000\n",
    "num2=200\n",
    "add=num1+num2\n",
    "# the addtion of100 and 200 is 300\n",
    "print(\"the addtion of100 and 200 is 300\")\n",
    "print(\"the addtion of{} and{} is {}\".format(num1,num2,add))"
   ]
  },
  {
   "cell_type": "code",
   "execution_count": 74,
   "id": "7faa7cff-1e9b-4baf-b2a6-533fe8a3f586",
   "metadata": {},
   "outputs": [],
   "source": [
    "#wap take two number perform the\n",
    "# subraction\n",
    "# multiplecation\n",
    "# division\n",
    "#print the statements as follows\n",
    "\n",
    "#the subraction of 100 and 200 is -100\n",
    "#the multiplication is 100 and 200 is 20000\n",
    "#the division of 100 and 200 is 0.5"
   ]
  },
  {
   "cell_type": "code",
   "execution_count": 76,
   "id": "6495d8ac-4d26-4868-879e-37c1360c73f0",
   "metadata": {},
   "outputs": [
    {
     "name": "stdout",
     "output_type": "stream",
     "text": [
      "the subraction of 100 and 200 is -100\n",
      "the multiplication is 100 and 200 is 20000\n",
      "the division of 100 and 200 is 0.5\n"
     ]
    }
   ],
   "source": [
    "num1=100\n",
    "num2=200\n",
    "sub=num1-num2\n",
    "mul=num1*num2\n",
    "div=num1/num2\n",
    "# the sub of100 and 200 is -200\n",
    "#the multiplecation os 100 and 200 is 20000\n",
    "#the division of 100 ans 200 is 0.5\n",
    "print(\"the subraction of {} and {} is {}\". format(num1,num2,sub))\n",
    "print(\"the multiplication is {} and {} is {}\". format(num1,num2,mul))\n",
    "print(\"the division of {} and {} is {}\". format(num1,num2,div))"
   ]
  },
  {
   "cell_type": "code",
   "execution_count": 85,
   "id": "09adc7a4-0c1d-4c0c-a42c-c72b1b1ee54c",
   "metadata": {},
   "outputs": [
    {
     "name": "stdout",
     "output_type": "stream",
     "text": [
      "the average of 10 , 20 and 30 is 20.0\n"
     ]
    }
   ],
   "source": [
    "a=10\n",
    "b=20\n",
    "c=30\n",
    "avg=(a+b+c)/3\n",
    "print(\"the average of {} , {} and {} is {}\". format(a, b, c, avg))\n"
   ]
  },
  {
   "cell_type": "code",
   "execution_count": 87,
   "id": "d22eb142-dfdc-48ca-85c6-61b1db18cf7a",
   "metadata": {},
   "outputs": [
    {
     "name": "stdout",
     "output_type": "stream",
     "text": [
      "the subraction of 100 and 200 is -100\n",
      "==========================================================\n",
      "the multiplication is 100 and 200 is 20000\n",
      "==========================================================\n",
      "the division of 100 and 200 is 0.5\n",
      "==========================================================\n",
      "the average of 10 , 20 and 30 is 20.0\n"
     ]
    }
   ],
   "source": [
    "num1=100\n",
    "num2=200\n",
    "sub=num1-num2\n",
    "mul=num1*num2\n",
    "div=num1/num2\n",
    "# the sub of100 and 200 is -200\n",
    "#the multiplecation os 100 and 200 is 20000\n",
    "#the division of 100 ans 200 is 0.5\n",
    "print(\"the subraction of {} and {} is {}\". format(num1,num2,sub))\n",
    "print(\"==========================================================\")\n",
    "print(\"the multiplication is {} and {} is {}\". format(num1,num2,mul))\n",
    "print(\"==========================================================\")\n",
    "print(\"the division of {} and {} is {}\". format(num1,num2,div))\n",
    "print(\"==========================================================\")\n",
    "a=10\n",
    "b=20\n",
    "c=30\n",
    "avg=(a+b+c)/3\n",
    "print(\"the average of {} , {} and {} is {}\". format(a, b, c, avg))\n"
   ]
  },
  {
   "cell_type": "markdown",
   "id": "55a7a720-6080-4f66-97e4-af6e563da831",
   "metadata": {},
   "source": [
    "**f string method**"
   ]
  },
  {
   "cell_type": "code",
   "execution_count": 93,
   "id": "f6a2b255-e3c4-4b24-bd3c-dfe5b6141f09",
   "metadata": {},
   "outputs": [
    {
     "name": "stdout",
     "output_type": "stream",
     "text": [
      "the subraction of 100 and 200 is -100\n",
      "==========================================================\n",
      "the multiplication is 100 and 200 is 20000\n",
      "==========================================================\n",
      "the division of 100 and 200 is 0.5\n",
      "==========================================================\n",
      "the average of 10 , 20 and 30 is 20.0\n"
     ]
    }
   ],
   "source": [
    "num1=100\n",
    "num2=200\n",
    "sub=num1-num2\n",
    "mul=num1*num2\n",
    "div=num1/num2\n",
    "# the sub of100 and 200 is -200\n",
    "#the multiplecation os 100 and 200 is 20000\n",
    "#the division of 100 ans 200 is 0.5\n",
    "print(f\"the subraction of {num1} and {num2} is {sub}\")\n",
    "print(\"==========================================================\")\n",
    "print(f\"the multiplication is {num1} and {num2} is {mul}\")\n",
    "print(\"==========================================================\")\n",
    "print(f\"the division of {num1} and {num2} is {div}\")\n",
    "print(\"==========================================================\")\n",
    "a=10\n",
    "b=20\n",
    "c=30\n",
    "avg=(a+b+c)/3\n",
    "print(f\"the average of {a} , {b} and {c} is {avg}\")\n",
    "# write f at the start and fill the curly brases with respected fillments instead of dot format method"
   ]
  },
  {
   "cell_type": "code",
   "execution_count": 99,
   "id": "c2d9c050-5993-4f5f-9910-e582933b7a17",
   "metadata": {},
   "outputs": [
    {
     "name": "stdout",
     "output_type": "stream",
     "text": [
      "the average of 11 , 20 and 30 is 20.333333333333332\n"
     ]
    }
   ],
   "source": [
    "a=11\n",
    "b=20\n",
    "c=30\n",
    "avg=(a+b+c)/3\n",
    "print(f\"the average of {a} , {b} and {c} is {avg}\")"
   ]
  },
  {
   "cell_type": "markdown",
   "id": "d7accd0f-40c6-4bbb-aaca-9b6c0d85be2c",
   "metadata": {},
   "source": [
    "**round**"
   ]
  },
  {
   "cell_type": "code",
   "execution_count": 101,
   "id": "6ebde867-2b5e-44b9-8b60-f4e2ef331df6",
   "metadata": {},
   "outputs": [],
   "source": [
    "# print()\n",
    "# type()\n",
    "# int()\n",
    "# float()\n",
    "# str()\n",
    "# bool()\n",
    "# roand()"
   ]
  },
  {
   "cell_type": "code",
   "execution_count": 103,
   "id": "32bf15b8-cf55-4f53-9ff2-0d5cedf65bf6",
   "metadata": {},
   "outputs": [
    {
     "data": {
      "text/plain": [
       "11"
      ]
     },
     "execution_count": 103,
     "metadata": {},
     "output_type": "execute_result"
    }
   ],
   "source": [
    "round(10.77777777)"
   ]
  },
  {
   "cell_type": "code",
   "execution_count": 105,
   "id": "0fa8b33c-cc01-4732-a430-93b9eda8e456",
   "metadata": {},
   "outputs": [
    {
     "name": "stdout",
     "output_type": "stream",
     "text": [
      "11\n",
      "10.78\n",
      "10.778\n"
     ]
    }
   ],
   "source": [
    "print(round(10.77777777))\n",
    "print(round(10.77777,2))\n",
    "print(round(10.77777,3))"
   ]
  },
  {
   "cell_type": "code",
   "execution_count": 109,
   "id": "bd69961f-7d72-43d0-bc26-b5d824ad826d",
   "metadata": {},
   "outputs": [
    {
     "name": "stdout",
     "output_type": "stream",
     "text": [
      "the average of 11 , 20 and 30 is 20\n"
     ]
    }
   ],
   "source": [
    "a=11\n",
    "b=20\n",
    "c=30\n",
    "avg=(a+b+c)/3\n",
    "print(f\"the average of {a} , {b} and {c} is {round(avg)}\")"
   ]
  },
  {
   "cell_type": "markdown",
   "id": "cb028104-618e-490c-b174-41de629875fb",
   "metadata": {},
   "source": [
    "**I have mulple print statement**"
   ]
  },
  {
   "cell_type": "markdown",
   "id": "659704bf-9da1-470d-8f40-8e26fc961ef8",
   "metadata": {},
   "source": [
    "**end**"
   ]
  },
  {
   "cell_type": "code",
   "execution_count": 116,
   "id": "2fea7ec6-e8b9-4f0b-8b61-00680e34cd82",
   "metadata": {},
   "outputs": [
    {
     "name": "stdout",
     "output_type": "stream",
     "text": [
      "10 , 20 , 30\n"
     ]
    }
   ],
   "source": [
    "print(10,end=\" , \")\n",
    "print(20,end=\" , \")\n",
    "print(30)"
   ]
  },
  {
   "cell_type": "code",
   "execution_count": 118,
   "id": "2a5d76bf-0ab1-4ee0-8af7-1108e7f84da9",
   "metadata": {},
   "outputs": [
    {
     "name": "stdout",
     "output_type": "stream",
     "text": [
      "10 ====> 20\n"
     ]
    }
   ],
   "source": [
    "print(10,end=\" ====> \")\n",
    "print(20)"
   ]
  },
  {
   "cell_type": "code",
   "execution_count": 126,
   "id": "477c3676-5866-42dc-8979-689603798c90",
   "metadata": {},
   "outputs": [
    {
     "name": "stdout",
     "output_type": "stream",
     "text": [
      "hello  how  are  you  "
     ]
    }
   ],
   "source": [
    "print('hello',end=\"  \")\n",
    "print('how',end=\"  \")\n",
    "print('are',end=\"  \")\n",
    "print('you',end=\"  \")"
   ]
  },
  {
   "cell_type": "markdown",
   "id": "08f12e6c-6e57-4948-b1b4-bbe8f10faf65",
   "metadata": {},
   "source": [
    "**i have multiple values in a dingle print statement**\n",
    "\n",
    "**i want print them with some seperation**"
   ]
  },
  {
   "cell_type": "code",
   "execution_count": 136,
   "id": "a6cb92ba-d634-4612-b902-60ce192b983a",
   "metadata": {},
   "outputs": [
    {
     "name": "stdout",
     "output_type": "stream",
     "text": [
      "10   20   30\n"
     ]
    }
   ],
   "source": [
    "print(10,20,30,sep='   ')"
   ]
  },
  {
   "cell_type": "code",
   "execution_count": 138,
   "id": "13d5deab-fb8f-4007-9ef4-b8081e80cc2c",
   "metadata": {},
   "outputs": [
    {
     "name": "stdout",
     "output_type": "stream",
     "text": [
      "10====>20====>30\n"
     ]
    }
   ],
   "source": [
    "print(10,20,30,sep='====>')"
   ]
  },
  {
   "cell_type": "markdown",
   "id": "29312bee-e0c1-4c84-bc45-3450adca97ef",
   "metadata": {},
   "source": [
    "- basic print statement\n",
    "- learn format method\n",
    "- we learn fstring method\n",
    "- we learn round\n",
    "- we learn end operator\n",
    "- we learn sep operator"
   ]
  },
  {
   "cell_type": "code",
   "execution_count": 172,
   "id": "8486cb14-3a52-4347-8561-7341752ebddb",
   "metadata": {},
   "outputs": [],
   "source": [
    "# wap take the radidus of a circle calculate area of the circle\n",
    "# var: radidus  var: pi=3.14\n",
    "# formuale: pi*radius*radius\n",
    "# print the answers using f string and format"
   ]
  },
  {
   "cell_type": "code",
   "execution_count": 174,
   "id": "fc3b29c0-3f2e-4fdf-8e4d-2cf779d3248e",
   "metadata": {},
   "outputs": [
    {
     "name": "stdout",
     "output_type": "stream",
     "text": [
      "the area of the circle is 706.5\n",
      "the area of the circle is 706.5\n"
     ]
    }
   ],
   "source": [
    "radius=15\n",
    "pi=3.14\n",
    "area=pi*radius*radius\n",
    "print(f\"the area of the circle is {area}\")\n",
    "print(\"the area of the circle is {}\".format(area))"
   ]
  },
  {
   "cell_type": "code",
   "execution_count": 176,
   "id": "29f30f51-07ff-40a4-af38-2371c96673d4",
   "metadata": {},
   "outputs": [],
   "source": [
    "#wap take the breadth and height of a right angle triangle\n",
    "# calculate the area\n",
    "# var1: bredath  var2: height\n",
    "# formuale : 0.5*breadth*heigh\n"
   ]
  },
  {
   "cell_type": "code",
   "execution_count": 184,
   "id": "fc06718d-f532-4727-9217-830cd1278dea",
   "metadata": {},
   "outputs": [
    {
     "name": "stdout",
     "output_type": "stream",
     "text": [
      "the area of the right angle tringle is 7.5\n",
      "the area of the right angle triangle is 7.5\n"
     ]
    }
   ],
   "source": [
    "breath=3\n",
    "height=5\n",
    "area=0.5*breath*height\n",
    "print(f\"the area of the right angle tringle is {area}\")\n",
    "print(\"the area of the right angle triangle is {}\".format(area))"
   ]
  },
  {
   "cell_type": "code",
   "execution_count": 180,
   "id": "c9dd28de-1e87-402f-97fe-694b5f0d7152",
   "metadata": {},
   "outputs": [],
   "source": [
    "# wap take the bill amount and tip amount\n",
    "# calculate total bill\n",
    "# var1: bill amount var2: tip amount\n",
    "# formuale"
   ]
  },
  {
   "cell_type": "code",
   "execution_count": 186,
   "id": "01c0f2a2-885b-4808-9052-2372f3aaa579",
   "metadata": {},
   "outputs": [
    {
     "name": "stdout",
     "output_type": "stream",
     "text": [
      "the total bill amount  is 200\n",
      "the total bill amount is 200\n"
     ]
    }
   ],
   "source": [
    "billamount=150\n",
    "tipamount=50\n",
    "totalbill= billamount+tipamount\n",
    "print(f\"the total bill amount  is {totalbill}\")\n",
    "print(\"the total bill amount is {}\".format(totalbill))"
   ]
  },
  {
   "cell_type": "code",
   "execution_count": 166,
   "id": "e065d435-8df5-4f0e-af24-611ebf486d78",
   "metadata": {},
   "outputs": [],
   "source": [
    "# wap take the length and breadth of a rectangle calculate area\n",
    "# var1: length  var2: breadth\n",
    "# formulae: length * breadth"
   ]
  },
  {
   "cell_type": "code",
   "execution_count": 168,
   "id": "83fc543c-db62-4893-ac24-a1b2498ab384",
   "metadata": {},
   "outputs": [
    {
     "name": "stdout",
     "output_type": "stream",
     "text": [
      "the area of rectangle is 30\n",
      "the area of rectangle is 30\n"
     ]
    }
   ],
   "source": [
    "lenth=6\n",
    "breath=5\n",
    "area=lenth*breath\n",
    "print(f\"the area of rectangle is {area}\")\n",
    "print(\"the area of rectangle is {}\".format(area))"
   ]
  },
  {
   "cell_type": "markdown",
   "id": "18772a17-6f63-4973-8407-6a2bcb2e5741",
   "metadata": {},
   "source": [
    "**input**"
   ]
  },
  {
   "cell_type": "markdown",
   "id": "2f897901-6eaa-48dc-b31b-645674fcb9d9",
   "metadata": {},
   "source": [
    "- in above we provided the value\n",
    "- input is the inbuilt function \n",
    "- using input the user can provide any value"
   ]
  },
  {
   "cell_type": "code",
   "execution_count": 190,
   "id": "37592c5e-40fe-44c7-a2c7-984178902cc5",
   "metadata": {},
   "outputs": [
    {
     "data": {
      "text/plain": [
       "<bound method Kernel.raw_input of <ipykernel.ipkernel.IPythonKernel object at 0x00000262F39F8D40>>"
      ]
     },
     "execution_count": 190,
     "metadata": {},
     "output_type": "execute_result"
    }
   ],
   "source": [
    "input"
   ]
  },
  {
   "cell_type": "markdown",
   "id": "3cff5492-c6c6-4bea-afae-f645f117b2e3",
   "metadata": {},
   "source": [
    "**note:whenever if we see bound method or function which indicates we forget the brackets**"
   ]
  },
  {
   "cell_type": "code",
   "execution_count": 197,
   "id": "32bc21fd-aa1b-44df-a859-6a7f6268c676",
   "metadata": {},
   "outputs": [
    {
     "name": "stdin",
     "output_type": "stream",
     "text": [
      " 100\n"
     ]
    },
    {
     "data": {
      "text/plain": [
       "'100'"
      ]
     },
     "execution_count": 197,
     "metadata": {},
     "output_type": "execute_result"
    }
   ],
   "source": [
    "input()"
   ]
  },
  {
   "cell_type": "code",
   "execution_count": 201,
   "id": "15453ba5-27c3-491c-aaf6-a1df433129b8",
   "metadata": {},
   "outputs": [
    {
     "name": "stdin",
     "output_type": "stream",
     "text": [
      " adibanaz\n"
     ]
    }
   ],
   "source": [
    "name=input()"
   ]
  },
  {
   "cell_type": "code",
   "execution_count": 203,
   "id": "141652f6-916c-4072-a02a-9d5dd822a08d",
   "metadata": {},
   "outputs": [
    {
     "data": {
      "text/plain": [
       "'adibanaz'"
      ]
     },
     "execution_count": 203,
     "metadata": {},
     "output_type": "execute_result"
    }
   ],
   "source": [
    "name"
   ]
  },
  {
   "cell_type": "code",
   "execution_count": 211,
   "id": "a0ccf392-c2ee-4d2c-907f-740d49e70d9b",
   "metadata": {},
   "outputs": [
    {
     "name": "stdin",
     "output_type": "stream",
     "text": [
      " 100\n",
      " 200\n",
      " 300\n"
     ]
    }
   ],
   "source": [
    "n1=input()  #n1='100'\n",
    "n2=input()  #n2='200'\n",
    "n3=input()  #n3='300'"
   ]
  },
  {
   "cell_type": "code",
   "execution_count": 213,
   "id": "c8d19394-9a26-433f-8f93-0612532ce0fd",
   "metadata": {},
   "outputs": [
    {
     "data": {
      "text/plain": [
       "('100', '200', '300')"
      ]
     },
     "execution_count": 213,
     "metadata": {},
     "output_type": "execute_result"
    }
   ],
   "source": [
    "n1,n2,n3"
   ]
  },
  {
   "cell_type": "code",
   "execution_count": 215,
   "id": "a5b487c4-2a84-4ffc-ab6f-0410388ad8e1",
   "metadata": {},
   "outputs": [
    {
     "name": "stdin",
     "output_type": "stream",
     "text": [
      "enter the number1: 100\n",
      "enter the number2: 200\n"
     ]
    }
   ],
   "source": [
    "n1=input(\"enter the number1:\")\n",
    "n2=input(\"enter the number2:\")"
   ]
  },
  {
   "cell_type": "code",
   "execution_count": 234,
   "id": "243b7ca2-5f34-482b-a6f4-1497bd596046",
   "metadata": {},
   "outputs": [
    {
     "name": "stdin",
     "output_type": "stream",
     "text": [
      "enter the number1: 500\n",
      "enter the number2: 600\n"
     ]
    },
    {
     "data": {
      "text/plain": [
       "'500600'"
      ]
     },
     "execution_count": 234,
     "metadata": {},
     "output_type": "execute_result"
    }
   ],
   "source": [
    "n1=input(\"enter the number1:\") #n1='500'\n",
    "n2=input(\"enter the number2:\") #n2='600'\n",
    "n1+n2 #'500'+'600'='500600'"
   ]
  },
  {
   "cell_type": "markdown",
   "id": "8c57d453-2cb8-413e-aa51-67260b09a84a",
   "metadata": {},
   "source": [
    "**input valuesby default string type**"
   ]
  },
  {
   "cell_type": "code",
   "execution_count": 222,
   "id": "0f8ef251-b5d2-4e1e-aaa9-3df6e0601f0b",
   "metadata": {},
   "outputs": [
    {
     "data": {
      "text/plain": [
       "'100200'"
      ]
     },
     "execution_count": 222,
     "metadata": {},
     "output_type": "execute_result"
    }
   ],
   "source": [
    "'100'+'200'"
   ]
  },
  {
   "cell_type": "code",
   "execution_count": 224,
   "id": "b5effdda-e5c9-49c3-b359-80fc31f1f20e",
   "metadata": {},
   "outputs": [
    {
     "data": {
      "text/plain": [
       "300"
      ]
     },
     "execution_count": 224,
     "metadata": {},
     "output_type": "execute_result"
    }
   ],
   "source": [
    "100+200"
   ]
  },
  {
   "cell_type": "code",
   "execution_count": 228,
   "id": "c345bd6b-3bc8-49ea-bbd2-880f87023efb",
   "metadata": {},
   "outputs": [
    {
     "data": {
      "text/plain": [
       "'appleisfruit'"
      ]
     },
     "execution_count": 228,
     "metadata": {},
     "output_type": "execute_result"
    }
   ],
   "source": [
    "str1='apple'\n",
    "str2='is'\n",
    "str3='fruit'\n",
    "str1+str2+str3"
   ]
  },
  {
   "cell_type": "code",
   "execution_count": 232,
   "id": "81de63f7-d3a7-4008-91ad-e765dbfaf5e9",
   "metadata": {},
   "outputs": [
    {
     "name": "stdin",
     "output_type": "stream",
     "text": [
      "enter a string1:  apple\n",
      "enter a string2:  is\n",
      "enter a string3:  fruit\n"
     ]
    },
    {
     "data": {
      "text/plain": [
       "' apple is fruit'"
      ]
     },
     "execution_count": 232,
     "metadata": {},
     "output_type": "execute_result"
    }
   ],
   "source": [
    "str1=input(\"enter a string1:\")\n",
    "str2=input(\"enter a string2:\")\n",
    "str3=input(\"enter a string3:\")\n",
    "str1+str2+str3"
   ]
  },
  {
   "cell_type": "code",
   "execution_count": 240,
   "id": "1fc3d0db-aae8-416b-8aff-167ce866f900",
   "metadata": {},
   "outputs": [
    {
     "name": "stdin",
     "output_type": "stream",
     "text": [
      "enter the number1: 500\n",
      "enter the number2: 600\n"
     ]
    },
    {
     "data": {
      "text/plain": [
       "1100"
      ]
     },
     "execution_count": 240,
     "metadata": {},
     "output_type": "execute_result"
    }
   ],
   "source": [
    "n1=int(input(\"enter the number1:\")) #n1='500'\n",
    "n2=int(input(\"enter the number2:\")) #n2='600'\n",
    "n1+n2 #500+'600=1100"
   ]
  },
  {
   "cell_type": "code",
   "execution_count": 242,
   "id": "48627c85-e3be-46bd-8568-2a25cc5d6464",
   "metadata": {},
   "outputs": [
    {
     "data": {
      "text/plain": [
       "1100"
      ]
     },
     "execution_count": 242,
     "metadata": {},
     "output_type": "execute_result"
    }
   ],
   "source": [
    "n1=int('500')\n",
    "n2=int('600')\n",
    "n1+n2"
   ]
  },
  {
   "cell_type": "code",
   "execution_count": 244,
   "id": "5933ffdd-7bcd-43e1-9bf2-d2afdd9015b9",
   "metadata": {},
   "outputs": [
    {
     "name": "stdin",
     "output_type": "stream",
     "text": [
      "enter the number1: 500\n",
      "enter the number2: 600\n"
     ]
    },
    {
     "data": {
      "text/plain": [
       "1100"
      ]
     },
     "execution_count": 244,
     "metadata": {},
     "output_type": "execute_result"
    }
   ],
   "source": [
    "n1=int(input(\"enter the number1:\")) #n1='500'\n",
    "n2=int(input(\"enter the number2:\")) #n2='600'\n",
    "int(n1)+int(n2) #int('500')+int('600')=1100"
   ]
  },
  {
   "cell_type": "code",
   "execution_count": 246,
   "id": "3c7d9ccf-7393-4856-9a4e-0b22ee1c9211",
   "metadata": {},
   "outputs": [
    {
     "name": "stdin",
     "output_type": "stream",
     "text": [
      "enter the number1: 500\n",
      "enter the number2: 600\n"
     ]
    },
    {
     "data": {
      "text/plain": [
       "1100"
      ]
     },
     "execution_count": 246,
     "metadata": {},
     "output_type": "execute_result"
    }
   ],
   "source": [
    "n1=int(input(\"enter the number1:\")) #n1='500'\n",
    "n2=int(input(\"enter the number2:\")) #n2='600'\n",
    "int(n1)+int(n2) #int('500')+int('600')=1100"
   ]
  },
  {
   "cell_type": "markdown",
   "id": "e219a9c9-0485-412b-b2fa-e261214bb9ac",
   "metadata": {},
   "source": [
    "**eval**\n",
    "- eval means evaluate\n",
    "- it is related to math family\n",
    "- which meansitwork only number represent as string\n",
    "- it will not works on english letter\n",
    "- eval will convert the repective data type which is user enter\n",
    "- if user enter 10 in quotes it will convert into 10\n",
    "- if user 10.5 in quotes it will convert into 10.5"
   ]
  },
  {
   "cell_type": "markdown",
   "id": "0b0ecdeb-8313-48de-84aa-a2c8f8c9c93f",
   "metadata": {},
   "source": [
    "int('10')\n",
    "int('10.5')\n",
    "\n",
    "float('10')\n",
    "float('10.5')"
   ]
  },
  {
   "cell_type": "code",
   "execution_count": 254,
   "id": "050a5f53-f706-4c81-8dac-3efe48f3826e",
   "metadata": {},
   "outputs": [
    {
     "data": {
      "text/plain": [
       "(10, 10.5)"
      ]
     },
     "execution_count": 254,
     "metadata": {},
     "output_type": "execute_result"
    }
   ],
   "source": [
    "eval('10'), eval('10.5')"
   ]
  },
  {
   "cell_type": "code",
   "execution_count": 256,
   "id": "af8fea6b-a30d-40a1-939b-778b0c374038",
   "metadata": {},
   "outputs": [
    {
     "name": "stdin",
     "output_type": "stream",
     "text": [
      "enter the number1: 10\n",
      "enter the number2: 20.5\n"
     ]
    },
    {
     "data": {
      "text/plain": [
       "30.5"
      ]
     },
     "execution_count": 256,
     "metadata": {},
     "output_type": "execute_result"
    }
   ],
   "source": [
    "n1=eval(input(\"enter the number1:\")) \n",
    "n2=eval(input(\"enter the number2:\")) \n",
    "n1+n2 "
   ]
  },
  {
   "cell_type": "code",
   "execution_count": 258,
   "id": "26e422cc-c11d-4da8-9e8c-956fcff54ab0",
   "metadata": {},
   "outputs": [],
   "source": [
    "# wap ask the user to enter radidus of a circle calculate area of the circle\n",
    "# var: radidus  var: pi=3.14\n",
    "# formuale: pi*radius*radius\n",
    "# print the answers using f string and format"
   ]
  },
  {
   "cell_type": "code",
   "execution_count": null,
   "id": "0bd0ff04-2235-4553-8492-2058493ec0bb",
   "metadata": {},
   "outputs": [],
   "source": []
  },
  {
   "cell_type": "code",
   "execution_count": 261,
   "id": "3d6bd23e-6337-44d8-948b-6dd9aef63eb1",
   "metadata": {},
   "outputs": [],
   "source": [
    "#wap take the breadth and height of a right angle triangle\n",
    "# calculate the area\n",
    "# var1: bredath  var2: height\n",
    "# formuale : 0.5*breadth*heigh"
   ]
  },
  {
   "cell_type": "code",
   "execution_count": null,
   "id": "bfc479bb-5846-4538-a7b3-04d63814eade",
   "metadata": {},
   "outputs": [],
   "source": []
  },
  {
   "cell_type": "code",
   "execution_count": 264,
   "id": "67cfdb7e-5cbf-4977-8629-5070758e7157",
   "metadata": {},
   "outputs": [],
   "source": [
    "# wap take the bill amount and tip amount\n",
    "# calculate total bill\n",
    "# var1: bill amount var2: tip amount\n",
    "# formuale"
   ]
  },
  {
   "cell_type": "code",
   "execution_count": null,
   "id": "39731c06-7508-4f49-ab7d-92c1ea09eeed",
   "metadata": {},
   "outputs": [],
   "source": []
  },
  {
   "cell_type": "code",
   "execution_count": null,
   "id": "48da3df6-62d7-47e0-8c66-dc87b7ddf146",
   "metadata": {},
   "outputs": [],
   "source": [
    "# wap take the length and breadth of a rectangle calculate area\n",
    "# var1: length  var2: breadth\n",
    "# formulae: length * breadth"
   ]
  }
 ],
 "metadata": {
  "kernelspec": {
   "display_name": "Python [conda env:base] *",
   "language": "python",
   "name": "conda-base-py"
  },
  "language_info": {
   "codemirror_mode": {
    "name": "ipython",
    "version": 3
   },
   "file_extension": ".py",
   "mimetype": "text/x-python",
   "name": "python",
   "nbconvert_exporter": "python",
   "pygments_lexer": "ipython3",
   "version": "3.12.7"
  }
 },
 "nbformat": 4,
 "nbformat_minor": 5
}
