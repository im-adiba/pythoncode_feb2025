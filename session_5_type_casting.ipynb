{
 "cells": [
  {
   "cell_type": "markdown",
   "id": "f9978115-669a-45ea-9a69-e363a4c11387",
   "metadata": {},
   "source": [
    "## typ casting\n",
    "- Convert one data type toanother data type\n",
    "- we learned 4 dataypes\n",
    "      - integer: int\n",
    "      - float: float\n",
    "      - boolean: bool\n",
    "      - string: str"
   ]
  },
  {
   "cell_type": "markdown",
   "id": "f4ee8927-dd95-40a7-a667-3d7e2373af58",
   "metadata": {},
   "source": [
    "**int to other data types**"
   ]
  },
  {
   "cell_type": "code",
   "execution_count": 5,
   "id": "010b3487-1aba-4e4e-b0ef-de682daf541f",
   "metadata": {},
   "outputs": [
    {
     "data": {
      "text/plain": [
       "int"
      ]
     },
     "execution_count": 5,
     "metadata": {},
     "output_type": "execute_result"
    }
   ],
   "source": [
    "number=100\n",
    "type(number)"
   ]
  },
  {
   "cell_type": "code",
   "execution_count": 19,
   "id": "f8faaee4-0647-4446-a326-3b9c6c2a57c9",
   "metadata": {},
   "outputs": [
    {
     "ename": "NameError",
     "evalue": "name 'float_number' is not defined",
     "output_type": "error",
     "traceback": [
      "\u001b[1;31m---------------------------------------------------------------------------\u001b[0m",
      "\u001b[1;31mNameError\u001b[0m                                 Traceback (most recent call last)",
      "Cell \u001b[1;32mIn[19], line 2\u001b[0m\n\u001b[0;32m      1\u001b[0m float_numer\u001b[38;5;241m=\u001b[39m\u001b[38;5;28mfloat\u001b[39m(number)\n\u001b[1;32m----> 2\u001b[0m \u001b[38;5;28mtype\u001b[39m(float_number)\n",
      "\u001b[1;31mNameError\u001b[0m: name 'float_number' is not defined"
     ]
    }
   ],
   "source": [
    "float_numer=float(number)\n",
    "type(float_number)"
   ]
  },
  {
   "cell_type": "code",
   "execution_count": 17,
   "id": "b26d8481-f7a3-4e0a-9ecd-20d0377b1ba0",
   "metadata": {},
   "outputs": [
    {
     "data": {
      "text/plain": [
       "bool"
      ]
     },
     "execution_count": 17,
     "metadata": {},
     "output_type": "execute_result"
    }
   ],
   "source": [
    "bool_number=bool(number)\n",
    "type(bool_number)"
   ]
  },
  {
   "cell_type": "code",
   "execution_count": 23,
   "id": "6b0bbb54-6151-45e7-bd45-26d8cd137939",
   "metadata": {},
   "outputs": [
    {
     "data": {
      "text/plain": [
       "str"
      ]
     },
     "execution_count": 23,
     "metadata": {},
     "output_type": "execute_result"
    }
   ],
   "source": [
    "str_number=str(number)\n",
    "type(str_number)"
   ]
  },
  {
   "cell_type": "code",
   "execution_count": 25,
   "id": "2d3249ea-1c70-4f12-b4ce-d940fd65a875",
   "metadata": {},
   "outputs": [
    {
     "data": {
      "text/plain": [
       "(100.0, True, '100')"
      ]
     },
     "execution_count": 25,
     "metadata": {},
     "output_type": "execute_result"
    }
   ],
   "source": [
    "float(100),bool(100),str(100)"
   ]
  },
  {
   "cell_type": "code",
   "execution_count": 35,
   "id": "842f92bd-6464-4521-bafb-637e79229c31",
   "metadata": {},
   "outputs": [
    {
     "name": "stdout",
     "output_type": "stream",
     "text": [
      "100.0\n",
      "True\n",
      "100\n"
     ]
    }
   ],
   "source": [
    "print(float(100))\n",
    "print(bool(100))\n",
    "print(str(100))"
   ]
  },
  {
   "cell_type": "code",
   "execution_count": 37,
   "id": "10ab5f67-5d04-4820-a24c-bf3fbc4261dd",
   "metadata": {},
   "outputs": [
    {
     "name": "stdout",
     "output_type": "stream",
     "text": [
      "-100.0\n",
      "True\n",
      "-100\n"
     ]
    }
   ],
   "source": [
    "print(float(-100))\n",
    "print(bool(-100))\n",
    "print(str(-100))"
   ]
  },
  {
   "cell_type": "code",
   "execution_count": 52,
   "id": "f1f270da-4068-4b8a-bd07-0c6ee71df2c4",
   "metadata": {},
   "outputs": [
    {
     "name": "stdout",
     "output_type": "stream",
     "text": [
      "0.0\n",
      "False\n",
      "0\n"
     ]
    }
   ],
   "source": [
    "print(float(0))\n",
    "print(bool(0))\n",
    "print(str(0))"
   ]
  },
  {
   "cell_type": "markdown",
   "id": "ca906f8b-fa8d-492f-a089-f4207849a71f",
   "metadata": {},
   "source": [
    "- zero means off\n",
    "- flase means off"
   ]
  },
  {
   "cell_type": "markdown",
   "id": "31d1d250-9d6f-43ba-8ddc-a1a99bc1cc00",
   "metadata": {},
   "source": [
    "**float to other data types**"
   ]
  },
  {
   "cell_type": "code",
   "execution_count": 56,
   "id": "f25fdadf-05e9-46cb-b961-07baaff4e4a4",
   "metadata": {},
   "outputs": [
    {
     "data": {
      "text/plain": [
       "100"
      ]
     },
     "execution_count": 56,
     "metadata": {},
     "output_type": "execute_result"
    }
   ],
   "source": [
    "number=100.5\n",
    "int(number)"
   ]
  },
  {
   "cell_type": "code",
   "execution_count": 58,
   "id": "aa1c2253-08a5-4ecb-89b8-841761123d6f",
   "metadata": {},
   "outputs": [
    {
     "data": {
      "text/plain": [
       "True"
      ]
     },
     "execution_count": 58,
     "metadata": {},
     "output_type": "execute_result"
    }
   ],
   "source": [
    "bool(number)"
   ]
  },
  {
   "cell_type": "code",
   "execution_count": 60,
   "id": "c7989fdb-975a-42c8-a7f3-b7a677e07a3b",
   "metadata": {},
   "outputs": [
    {
     "data": {
      "text/plain": [
       "'100.5'"
      ]
     },
     "execution_count": 60,
     "metadata": {},
     "output_type": "execute_result"
    }
   ],
   "source": [
    "str(number)"
   ]
  },
  {
   "cell_type": "code",
   "execution_count": 64,
   "id": "58b8439f-ba8f-4626-9bcc-d98174b919ad",
   "metadata": {},
   "outputs": [
    {
     "name": "stdout",
     "output_type": "stream",
     "text": [
      "100\n",
      "True\n",
      "100.5\n"
     ]
    }
   ],
   "source": [
    "n1=int(100.5)\n",
    "n2=bool(100.5)\n",
    "n3=str(100.5)\n",
    "print(n1)\n",
    "print(n2)\n",
    "print(n3)"
   ]
  },
  {
   "cell_type": "code",
   "execution_count": 66,
   "id": "8bb1b441-7fc5-478e-b8a9-c2c935bd9276",
   "metadata": {},
   "outputs": [
    {
     "name": "stdout",
     "output_type": "stream",
     "text": [
      "0\n",
      "False\n",
      "0.0\n"
     ]
    }
   ],
   "source": [
    "n1=int(0.0)\n",
    "n2=bool(0.0)\n",
    "n3=str(0.0)\n",
    "print(n1)\n",
    "print(n2)\n",
    "print(n3)"
   ]
  },
  {
   "cell_type": "markdown",
   "id": "55535b8a-912d-405b-97ee-dbb76965b7c3",
   "metadata": {},
   "source": [
    "**string to other data types**"
   ]
  },
  {
   "cell_type": "code",
   "execution_count": 77,
   "id": "15adc7f5-a50c-4822-ae7b-480f563e2ceb",
   "metadata": {},
   "outputs": [
    {
     "ename": "ValueError",
     "evalue": "invalid literal for int() with base 10: 'apple'",
     "output_type": "error",
     "traceback": [
      "\u001b[1;31m---------------------------------------------------------------------------\u001b[0m",
      "\u001b[1;31mValueError\u001b[0m                                Traceback (most recent call last)",
      "Cell \u001b[1;32mIn[77], line 1\u001b[0m\n\u001b[1;32m----> 1\u001b[0m \u001b[38;5;28mint\u001b[39m(\u001b[38;5;124m'\u001b[39m\u001b[38;5;124mapple\u001b[39m\u001b[38;5;124m'\u001b[39m)\n",
      "\u001b[1;31mValueError\u001b[0m: invalid literal for int() with base 10: 'apple'"
     ]
    }
   ],
   "source": [
    "int('apple')"
   ]
  },
  {
   "cell_type": "code",
   "execution_count": 71,
   "id": "e9e93e81-988c-437a-9d2f-1723deb93a3f",
   "metadata": {},
   "outputs": [
    {
     "ename": "ValueError",
     "evalue": "could not convert string to float: 'apple'",
     "output_type": "error",
     "traceback": [
      "\u001b[1;31m---------------------------------------------------------------------------\u001b[0m",
      "\u001b[1;31mValueError\u001b[0m                                Traceback (most recent call last)",
      "Cell \u001b[1;32mIn[71], line 1\u001b[0m\n\u001b[1;32m----> 1\u001b[0m \u001b[38;5;28mfloat\u001b[39m(\u001b[38;5;124m'\u001b[39m\u001b[38;5;124mapple\u001b[39m\u001b[38;5;124m'\u001b[39m)\n",
      "\u001b[1;31mValueError\u001b[0m: could not convert string to float: 'apple'"
     ]
    }
   ],
   "source": [
    "float('apple')"
   ]
  },
  {
   "cell_type": "code",
   "execution_count": 73,
   "id": "b38fdfd1-17d2-4f41-949e-164b5eb86f6b",
   "metadata": {},
   "outputs": [
    {
     "data": {
      "text/plain": [
       "True"
      ]
     },
     "execution_count": 73,
     "metadata": {},
     "output_type": "execute_result"
    }
   ],
   "source": [
    "bool('apple')"
   ]
  },
  {
   "cell_type": "markdown",
   "id": "8091c2ff-f5fe-4622-8031-f098b706b685",
   "metadata": {},
   "source": [
    "int('apple') # fail\n",
    "float('apple') #fail\n",
    "bool('apple') # works"
   ]
  },
  {
   "cell_type": "code",
   "execution_count": 82,
   "id": "b0beaa77-8231-4c10-b42e-c28382c627ea",
   "metadata": {},
   "outputs": [
    {
     "data": {
      "text/plain": [
       "True"
      ]
     },
     "execution_count": 82,
     "metadata": {},
     "output_type": "execute_result"
    }
   ],
   "source": [
    "bool('0')"
   ]
  },
  {
   "cell_type": "code",
   "execution_count": 84,
   "id": "63497935-69c8-4f7a-998f-2b576f9276cc",
   "metadata": {},
   "outputs": [
    {
     "data": {
      "text/plain": [
       "False"
      ]
     },
     "execution_count": 84,
     "metadata": {},
     "output_type": "execute_result"
    }
   ],
   "source": [
    "bool('')"
   ]
  },
  {
   "cell_type": "code",
   "execution_count": 86,
   "id": "35bb0749-c306-426e-8f79-bf00bbfb7cc2",
   "metadata": {},
   "outputs": [
    {
     "data": {
      "text/plain": [
       "5"
      ]
     },
     "execution_count": 86,
     "metadata": {},
     "output_type": "execute_result"
    }
   ],
   "source": [
    "len('apple')"
   ]
  },
  {
   "cell_type": "code",
   "execution_count": 88,
   "id": "7e2ea45a-9795-4654-be47-5cbbf79d322a",
   "metadata": {},
   "outputs": [
    {
     "data": {
      "text/plain": [
       "1"
      ]
     },
     "execution_count": 88,
     "metadata": {},
     "output_type": "execute_result"
    }
   ],
   "source": [
    "len('0')"
   ]
  },
  {
   "cell_type": "code",
   "execution_count": 90,
   "id": "96ef6cf7-5b65-4808-b582-a95df8decc93",
   "metadata": {},
   "outputs": [
    {
     "data": {
      "text/plain": [
       "2"
      ]
     },
     "execution_count": 90,
     "metadata": {},
     "output_type": "execute_result"
    }
   ],
   "source": [
    "len('  ') # space is available  "
   ]
  },
  {
   "cell_type": "markdown",
   "id": "4f991cc9-147d-48aa-b5e1-5ea334b892bf",
   "metadata": {},
   "source": [
    "- for number 0 and 0.0 boolean convertion gives **False**\n",
    "- for strings empty boolean conversion gives **False**"
   ]
  },
  {
   "cell_type": "code",
   "execution_count": 101,
   "id": "932ee637-f7d9-4884-9ff3-78f2b699c1b0",
   "metadata": {},
   "outputs": [
    {
     "data": {
      "text/plain": [
       "10.0"
      ]
     },
     "execution_count": 101,
     "metadata": {},
     "output_type": "execute_result"
    }
   ],
   "source": [
    "float('10')\n"
   ]
  },
  {
   "cell_type": "code",
   "execution_count": 95,
   "id": "5d6afbdb-6e5b-4278-a5c2-3eb922f06f28",
   "metadata": {},
   "outputs": [
    {
     "data": {
      "text/plain": [
       "True"
      ]
     },
     "execution_count": 95,
     "metadata": {},
     "output_type": "execute_result"
    }
   ],
   "source": [
    "bool('apple')"
   ]
  },
  {
   "cell_type": "code",
   "execution_count": 97,
   "id": "993c247c-f514-4832-ac79-9f5ccbc93169",
   "metadata": {},
   "outputs": [
    {
     "data": {
      "text/plain": [
       "10"
      ]
     },
     "execution_count": 97,
     "metadata": {},
     "output_type": "execute_result"
    }
   ],
   "source": [
    "int(\"10\")"
   ]
  },
  {
   "cell_type": "markdown",
   "id": "37e984d6-ec67-4d80-98c7-5c2f933a1236",
   "metadata": {},
   "source": [
    "**if str object not callable**\n",
    "- python magic\n",
    "- either you need open new notebook\n",
    "- or go to kernel and restart it"
   ]
  },
  {
   "cell_type": "code",
   "execution_count": 110,
   "id": "c083f4c5-2425-47b3-a962-454d2430e6a4",
   "metadata": {},
   "outputs": [
    {
     "data": {
      "text/plain": [
       "(10.0, True, 10)"
      ]
     },
     "execution_count": 110,
     "metadata": {},
     "output_type": "execute_result"
    }
   ],
   "source": [
    "float('10'), bool('10'),int('10')"
   ]
  },
  {
   "cell_type": "code",
   "execution_count": 128,
   "id": "8cd24882-959f-43a5-82c2-1e32c16117e3",
   "metadata": {},
   "outputs": [
    {
     "data": {
      "text/plain": [
       "(10.5,)"
      ]
     },
     "execution_count": 128,
     "metadata": {},
     "output_type": "execute_result"
    }
   ],
   "source": [
    "float('10.5'), "
   ]
  },
  {
   "cell_type": "code",
   "execution_count": 126,
   "id": "9a5619c5-8695-4223-9891-e7bf01f33f92",
   "metadata": {},
   "outputs": [
    {
     "data": {
      "text/plain": [
       "True"
      ]
     },
     "execution_count": 126,
     "metadata": {},
     "output_type": "execute_result"
    }
   ],
   "source": [
    "bool('10.5')\n"
   ]
  },
  {
   "cell_type": "code",
   "execution_count": 120,
   "id": "cd2c74ed-9a43-441c-85a4-d3e36ccdbd32",
   "metadata": {},
   "outputs": [
    {
     "ename": "ValueError",
     "evalue": "invalid literal for int() with base 10: '10.5'",
     "output_type": "error",
     "traceback": [
      "\u001b[1;31m---------------------------------------------------------------------------\u001b[0m",
      "\u001b[1;31mValueError\u001b[0m                                Traceback (most recent call last)",
      "Cell \u001b[1;32mIn[120], line 1\u001b[0m\n\u001b[1;32m----> 1\u001b[0m \u001b[38;5;28mint\u001b[39m(\u001b[38;5;124m'\u001b[39m\u001b[38;5;124m10.5\u001b[39m\u001b[38;5;124m'\u001b[39m)\n",
      "\u001b[1;31mValueError\u001b[0m: invalid literal for int() with base 10: '10.5'"
     ]
    }
   ],
   "source": [
    "int('10.5')"
   ]
  },
  {
   "cell_type": "markdown",
   "id": "951f4b0b-879c-443e-9283-282049b0a570",
   "metadata": {},
   "source": [
    "**float is the boss**\n",
    "- float('10') #w\n",
    "- float('10.5') #w\n",
    "\n",
    "- int('10') #w\n",
    "- int('10.5') #f"
   ]
  },
  {
   "cell_type": "markdown",
   "id": "c504f124-370b-429d-94b1-cba507a7f066",
   "metadata": {},
   "source": [
    " **boolean other data types**"
   ]
  },
  {
   "cell_type": "code",
   "execution_count": 135,
   "id": "1dc5dea3-ae9f-425a-882c-fea1b6b2e5d1",
   "metadata": {},
   "outputs": [
    {
     "name": "stdout",
     "output_type": "stream",
     "text": [
      "1\n"
     ]
    }
   ],
   "source": [
    "print(int(True))"
   ]
  },
  {
   "cell_type": "code",
   "execution_count": 137,
   "id": "c013630f-7420-47de-a3c1-5e117d8ce5ae",
   "metadata": {},
   "outputs": [
    {
     "name": "stdout",
     "output_type": "stream",
     "text": [
      "1.0\n"
     ]
    }
   ],
   "source": [
    "print(float(True))"
   ]
  },
  {
   "cell_type": "code",
   "execution_count": 139,
   "id": "b4879e66-f79a-4598-a1e1-5b983109ceea",
   "metadata": {},
   "outputs": [
    {
     "name": "stdout",
     "output_type": "stream",
     "text": [
      "True\n"
     ]
    }
   ],
   "source": [
    "print(bool(True))"
   ]
  },
  {
   "cell_type": "code",
   "execution_count": 143,
   "id": "9661c95f-1eed-476d-a3af-4b75ac7acadd",
   "metadata": {},
   "outputs": [
    {
     "data": {
      "text/plain": [
       "True"
      ]
     },
     "execution_count": 143,
     "metadata": {},
     "output_type": "execute_result"
    }
   ],
   "source": [
    "float(10)\n",
    "str(10)\n",
    "bool(10)\n"
   ]
  },
  {
   "cell_type": "code",
   "execution_count": null,
   "id": "4c2472c6-9641-4ae4-8ebb-e766c0fb4a3f",
   "metadata": {},
   "outputs": [],
   "source": []
  }
 ],
 "metadata": {
  "kernelspec": {
   "display_name": "Python [conda env:base] *",
   "language": "python",
   "name": "conda-base-py"
  },
  "language_info": {
   "codemirror_mode": {
    "name": "ipython",
    "version": 3
   },
   "file_extension": ".py",
   "mimetype": "text/x-python",
   "name": "python",
   "nbconvert_exporter": "python",
   "pygments_lexer": "ipython3",
   "version": "3.12.7"
  }
 },
 "nbformat": 4,
 "nbformat_minor": 5
}
