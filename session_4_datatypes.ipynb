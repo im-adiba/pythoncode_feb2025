{
 "cells": [
  {
   "cell_type": "markdown",
   "id": "8e4adb1b-cf31-46d2-b396-4182fcb9951f",
   "metadata": {},
   "source": [
    "-integer\n",
    "-float\n",
    "-string\n",
    "-"
   ]
  },
  {
   "cell_type": "markdown",
   "id": "c4692cc0-1204-41a1-90c4-d796f20db2ed",
   "metadata": {},
   "source": [
    "- myth\n",
    "  -only 14-15 data type available\n"
   ]
  },
  {
   "cell_type": "markdown",
   "id": "1a494568-0b61-4ac3-9aad-80eb47dd45a0",
   "metadata": {},
   "source": [
    "$integer$"
   ]
  },
  {
   "cell_type": "code",
   "execution_count": 7,
   "id": "61842fe4-3353-40f5-b531-f3c16fc514ce",
   "metadata": {},
   "outputs": [
    {
     "data": {
      "text/plain": [
       "100"
      ]
     },
     "execution_count": 7,
     "metadata": {},
     "output_type": "execute_result"
    }
   ],
   "source": [
    "number=100\n",
    "number"
   ]
  },
  {
   "cell_type": "code",
   "execution_count": 9,
   "id": "8dacc684-18ba-4455-84ce-1ab8b6b74175",
   "metadata": {},
   "outputs": [
    {
     "data": {
      "text/plain": [
       "int"
      ]
     },
     "execution_count": 9,
     "metadata": {},
     "output_type": "execute_result"
    }
   ],
   "source": [
    "type(number)"
   ]
  },
  {
   "cell_type": "code",
   "execution_count": 11,
   "id": "6d9ac85f-87ce-4590-b563-aad933dc8cd9",
   "metadata": {},
   "outputs": [],
   "source": [
    "# type is a inbuilt function"
   ]
  },
  {
   "cell_type": "markdown",
   "id": "9565affb-fe8f-4188-886f-6f5ad5702df4",
   "metadata": {},
   "source": [
    "**number system**\n",
    "\n",
    "-Binary number system\n",
    "\n",
    "-decimal number system\n",
    "\n",
    "-octa number system\n",
    "\n",
    "-hexa number system"
   ]
  },
  {
   "cell_type": "code",
   "execution_count": 18,
   "id": "a3f579b1-cd74-43b7-b9e6-e156e39e6dee",
   "metadata": {},
   "outputs": [
    {
     "data": {
      "text/plain": [
       "2025"
      ]
     },
     "execution_count": 18,
     "metadata": {},
     "output_type": "execute_result"
    }
   ],
   "source": [
    "9*9\n",
    "5*5\n",
    "81*25"
   ]
  },
  {
   "cell_type": "code",
   "execution_count": 20,
   "id": "3537c021-0fab-4bda-89a7-e9d3e6db2874",
   "metadata": {},
   "outputs": [
    {
     "data": {
      "text/plain": [
       "2025"
      ]
     },
     "execution_count": 20,
     "metadata": {},
     "output_type": "execute_result"
    }
   ],
   "source": [
    "40*40+20*20+5*5"
   ]
  },
  {
   "cell_type": "code",
   "execution_count": 24,
   "id": "370793f3-5f23-4d3b-a7a1-17ada40fbfb9",
   "metadata": {},
   "outputs": [
    {
     "data": {
      "text/plain": [
       "2025"
      ]
     },
     "execution_count": 24,
     "metadata": {},
     "output_type": "execute_result"
    }
   ],
   "source": [
    "sum([i**3 for i in range(1,10)])"
   ]
  },
  {
   "cell_type": "markdown",
   "id": "2ff6a040-db6c-455c-bb3d-ea282c90552e",
   "metadata": {},
   "source": [
    "**binary number system**\n",
    "- it is denoted with **0b** or **0B**\n",
    "- Binary means two\n",
    "- we have generally 0 to 9 digits available\n",
    "- binarymeans two digits allowed :0 and 1\n",
    "- ex: 0b101 0b111 0b001\n",
    "- not valid: 0b123   0b1000012"
   ]
  },
  {
   "cell_type": "code",
   "execution_count": 62,
   "id": "561a2692-1eec-4b3a-ac55-239dd6e28a93",
   "metadata": {},
   "outputs": [
    {
     "data": {
      "text/plain": [
       "7"
      ]
     },
     "execution_count": 62,
     "metadata": {},
     "output_type": "execute_result"
    }
   ],
   "source": [
    "0b111"
   ]
  },
  {
   "cell_type": "code",
   "execution_count": null,
   "id": "9cac9e21-0126-4915-92f7-93526f838512",
   "metadata": {},
   "outputs": [],
   "source": []
  },
  {
   "cell_type": "markdown",
   "id": "3ca3128c-2fe8-458a-9e40-a35ea16d4c85",
   "metadata": {},
   "source": [
    "2^2         2^1      2^0\n",
    "4            2         1\n",
    "################################################################\n",
    "0            0         0         0\n",
    "0            0         1         1\n",
    "0            1         0         2\n",
    "0            1         1         3\n",
    "1            0         0         4\n",
    "1            0         1         5\n",
    "1            1         0         6\n",
    "1            1         1         7"
   ]
  },
  {
   "cell_type": "markdown",
   "id": "847cafac-b809-4bdd-b9da-f18e891a5c63",
   "metadata": {},
   "source": [
    "**octa number system**\n",
    "- it is denoted with **0o** or **0O**\n",
    "- octa means 8\n",
    "- we have generally 0 to 9 digits available\n",
    "- octameans twi digits allowed :0 1 2 3 4 5 6 7\n",
    "- ex: 0o567 0o111 0O672\n",
    "- not valid: 0o768   0o169"
   ]
  },
  {
   "cell_type": "markdown",
   "id": "be8c76f9-12e5-4d9c-a4b7-91788fca7325",
   "metadata": {},
   "source": [
    "**hexa number system**\n",
    "- it is denoted with **0x** or **0X**\n",
    "- hexa means 16\n",
    "- we have generally 0 to 15 digits available\n",
    "- hexa means twi digits allowed :0 1 2 3 4 5 6 7 8 9 10 11 12 13\n",
    "- ex: 0x567 0x111 0O672\n",
    "- not valid: 0X1568   0x169"
   ]
  },
  {
   "cell_type": "markdown",
   "id": "e0a621cd-0788-4530-9d84-adc371211fa7",
   "metadata": {},
   "source": [
    "**float**"
   ]
  },
  {
   "cell_type": "code",
   "execution_count": 37,
   "id": "e534a5d8-612b-4fe7-a3e5-60118b353655",
   "metadata": {},
   "outputs": [
    {
     "data": {
      "text/plain": [
       "float"
      ]
     },
     "execution_count": 37,
     "metadata": {},
     "output_type": "execute_result"
    }
   ],
   "source": [
    "number=10.5\n",
    "type(number)"
   ]
  },
  {
   "cell_type": "markdown",
   "id": "9b488438-b994-4498-8bf7-dceeab365df2",
   "metadata": {},
   "source": [
    "**e representation**"
   ]
  },
  {
   "cell_type": "code",
   "execution_count": 43,
   "id": "4ca48e0f-3ccb-4dac-9321-93b723391b9c",
   "metadata": {},
   "outputs": [
    {
     "data": {
      "text/plain": [
       "10.0"
      ]
     },
     "execution_count": 43,
     "metadata": {},
     "output_type": "execute_result"
    }
   ],
   "source": [
    "1e1"
   ]
  },
  {
   "cell_type": "code",
   "execution_count": 46,
   "id": "176a9dfc-8f32-455b-8293-2d3af5525401",
   "metadata": {},
   "outputs": [
    {
     "data": {
      "text/plain": [
       "100.0"
      ]
     },
     "execution_count": 46,
     "metadata": {},
     "output_type": "execute_result"
    }
   ],
   "source": [
    "1e2"
   ]
  },
  {
   "cell_type": "code",
   "execution_count": 48,
   "id": "f8f7d272-2b89-43c1-b5fc-9e934897fd72",
   "metadata": {},
   "outputs": [
    {
     "data": {
      "text/plain": [
       "1000.0"
      ]
     },
     "execution_count": 48,
     "metadata": {},
     "output_type": "execute_result"
    }
   ],
   "source": [
    "1e3"
   ]
  },
  {
   "cell_type": "code",
   "execution_count": 50,
   "id": "deb67217-50bd-485a-bfd4-98b4f24d28b6",
   "metadata": {},
   "outputs": [
    {
     "name": "stdout",
     "output_type": "stream",
     "text": [
      "10.0\n",
      "100.0\n",
      "2000.0\n",
      "40000.0\n"
     ]
    }
   ],
   "source": [
    "print(1e+1)   #1*10=10\n",
    "print(1e+2)   #1*100=100\n",
    "print(2e+3)   #2*1000=2000\n",
    "print(4e+4)   #4*10000=40000"
   ]
  },
  {
   "cell_type": "code",
   "execution_count": 52,
   "id": "dd55d4be-cf5f-438d-8976-ef939ace0384",
   "metadata": {},
   "outputs": [
    {
     "name": "stdout",
     "output_type": "stream",
     "text": [
      "0.1\n",
      "0.01\n",
      "0.002\n",
      "0.0004\n"
     ]
    }
   ],
   "source": [
    "print(1e-1)   \n",
    "print(1e-2)   \n",
    "print(2e-3)   \n",
    "print(4e-4)   "
   ]
  },
  {
   "cell_type": "markdown",
   "id": "2aa79eec-c7bd-435f-bb8a-1c84c21e1d5e",
   "metadata": {},
   "source": [
    "**boolean**"
   ]
  },
  {
   "cell_type": "code",
   "execution_count": 2,
   "id": "c5ae2247-763d-455b-b74a-51317bb1a52d",
   "metadata": {},
   "outputs": [
    {
     "data": {
      "text/plain": [
       "True"
      ]
     },
     "execution_count": 2,
     "metadata": {},
     "output_type": "execute_result"
    }
   ],
   "source": [
    "val=True\n",
    "val"
   ]
  },
  {
   "cell_type": "code",
   "execution_count": 6,
   "id": "36068ef6-fd3a-4a9f-a5ed-3037194d4dd3",
   "metadata": {},
   "outputs": [
    {
     "data": {
      "text/plain": [
       "bool"
      ]
     },
     "execution_count": 6,
     "metadata": {},
     "output_type": "execute_result"
    }
   ],
   "source": [
    "type(val)"
   ]
  },
  {
   "cell_type": "code",
   "execution_count": 8,
   "id": "646184df-7fe2-4013-b19d-6e4e9a719d55",
   "metadata": {},
   "outputs": [
    {
     "data": {
      "text/plain": [
       "False"
      ]
     },
     "execution_count": 8,
     "metadata": {},
     "output_type": "execute_result"
    }
   ],
   "source": [
    "val1=False\n",
    "val1"
   ]
  },
  {
   "cell_type": "code",
   "execution_count": 10,
   "id": "b5f98a68-1d8a-4c76-acc3-75638dfa0b68",
   "metadata": {},
   "outputs": [
    {
     "data": {
      "text/plain": [
       "bool"
      ]
     },
     "execution_count": 10,
     "metadata": {},
     "output_type": "execute_result"
    }
   ],
   "source": [
    "val1=False\n",
    "type(val1)"
   ]
  },
  {
   "cell_type": "markdown",
   "id": "0504c167-160d-487d-91ec-6d0839b88fd4",
   "metadata": {},
   "source": [
    "**Strings**"
   ]
  },
  {
   "cell_type": "markdown",
   "id": "2bb6173f-c607-40d0-97f4-acdaaaaa4fcc",
   "metadata": {},
   "source": [
    "- English format represention\n",
    "- strings represent with quotes\n",
    "- we can use single quotes, double quotes also triple quotes"
   ]
  },
  {
   "cell_type": "code",
   "execution_count": 17,
   "id": "9ad46be4-d2a2-4e94-9572-e9d45f85cd18",
   "metadata": {},
   "outputs": [
    {
     "data": {
      "text/plain": [
       "'python'"
      ]
     },
     "execution_count": 17,
     "metadata": {},
     "output_type": "execute_result"
    }
   ],
   "source": [
    "name='python'\n",
    "name"
   ]
  },
  {
   "cell_type": "code",
   "execution_count": 19,
   "id": "6d853358-855f-4798-bc69-eb3b4cd3228c",
   "metadata": {},
   "outputs": [
    {
     "data": {
      "text/plain": [
       "str"
      ]
     },
     "execution_count": 19,
     "metadata": {},
     "output_type": "execute_result"
    }
   ],
   "source": [
    "type(name)"
   ]
  },
  {
   "cell_type": "code",
   "execution_count": 21,
   "id": "8e2532b1-7d9a-4e62-bba8-b9be07f32811",
   "metadata": {},
   "outputs": [
    {
     "name": "stdout",
     "output_type": "stream",
     "text": [
      "python\n"
     ]
    }
   ],
   "source": [
    "print(name)\n",
    "#when we print we will not "
   ]
  },
  {
   "cell_type": "code",
   "execution_count": 23,
   "id": "afbe2065-17ee-4979-9bde-5b81f6c2124c",
   "metadata": {},
   "outputs": [
    {
     "data": {
      "text/plain": [
       "str"
      ]
     },
     "execution_count": 23,
     "metadata": {},
     "output_type": "execute_result"
    }
   ],
   "source": [
    "val='10'\n",
    "type(val)"
   ]
  },
  {
   "cell_type": "code",
   "execution_count": 25,
   "id": "8e9d2816-a32e-4c4e-a16d-0b23da6e166f",
   "metadata": {},
   "outputs": [
    {
     "data": {
      "text/plain": [
       "int"
      ]
     },
     "execution_count": 25,
     "metadata": {},
     "output_type": "execute_result"
    }
   ],
   "source": [
    "val1=10\n",
    "type(val1)"
   ]
  },
  {
   "cell_type": "code",
   "execution_count": 27,
   "id": "fa57159e-1bbe-444d-add5-a8cf5bf26e75",
   "metadata": {},
   "outputs": [
    {
     "data": {
      "text/plain": [
       "'naresh it'"
      ]
     },
     "execution_count": 27,
     "metadata": {},
     "output_type": "execute_result"
    }
   ],
   "source": [
    "name=\"naresh it\"\n",
    "name\n",
    "# but the output displayed as single quotes"
   ]
  },
  {
   "cell_type": "code",
   "execution_count": 29,
   "id": "8579732a-0999-4971-bc21-3f8c45993a65",
   "metadata": {},
   "outputs": [
    {
     "data": {
      "text/plain": [
       "str"
      ]
     },
     "execution_count": 29,
     "metadata": {},
     "output_type": "execute_result"
    }
   ],
   "source": [
    "type(name)"
   ]
  },
  {
   "cell_type": "code",
   "execution_count": 31,
   "id": "af53656f-14a8-4291-826b-8540356a48b0",
   "metadata": {},
   "outputs": [
    {
     "name": "stdout",
     "output_type": "stream",
     "text": [
      "naresh it\n"
     ]
    }
   ],
   "source": [
    "print(name)"
   ]
  },
  {
   "cell_type": "code",
   "execution_count": 45,
   "id": "78c6ae8a-0ad0-4778-9497-0d86f7c33507",
   "metadata": {},
   "outputs": [
    {
     "data": {
      "text/plain": [
       "'i love python'"
      ]
     },
     "execution_count": 45,
     "metadata": {},
     "output_type": "execute_result"
    }
   ],
   "source": [
    "str1=\"i love python\"\n",
    "str1"
   ]
  },
  {
   "cell_type": "code",
   "execution_count": 47,
   "id": "44dd0b47-803a-4dbb-ae03-13aee283c76d",
   "metadata": {},
   "outputs": [
    {
     "data": {
      "text/plain": [
       "\"i love 'python'\""
      ]
     },
     "execution_count": 47,
     "metadata": {},
     "output_type": "execute_result"
    }
   ],
   "source": [
    "str2=\"i love 'python'\"\n",
    "str2"
   ]
  },
  {
   "cell_type": "code",
   "execution_count": 49,
   "id": "55d63f2d-8c29-427e-a175-c6a4f3523dab",
   "metadata": {},
   "outputs": [
    {
     "name": "stdout",
     "output_type": "stream",
     "text": [
      "i love 'python'\n"
     ]
    }
   ],
   "source": [
    "print(str2)"
   ]
  },
  {
   "cell_type": "markdown",
   "id": "c58cd4d4-9bd8-4413-89c3-bcc6bdf24b9f",
   "metadata": {},
   "source": [
    "- Keep entire string in double quotes then highlight the word with single quote vice verse"
   ]
  },
  {
   "cell_type": "markdown",
   "id": "c5e8bd6a-99df-44e1-b716-1b2fc389ca2a",
   "metadata": {},
   "source": [
    "**triple quotes**\n",
    "- triple quotes can not use in coding part\n",
    "- triple quotes means conveying the informatom\n",
    "- this is process is called as **Doc string**\n",
    "- in jupyter notebook wer have markdown option\n",
    "- but in vscode or pycharmthere is no markdown option\n",
    "- so user will convey the information by providing triple quotes"
   ]
  },
  {
   "cell_type": "code",
   "execution_count": 56,
   "id": "f2aaa117-4b73-4c3b-adef-ab1c283399ef",
   "metadata": {},
   "outputs": [
    {
     "data": {
      "text/plain": [
       "'haii\\ntoday im learning python\\nits easy'"
      ]
     },
     "execution_count": 56,
     "metadata": {},
     "output_type": "execute_result"
    }
   ],
   "source": [
    "\"\"\"haii\n",
    "today im learning python\n",
    "its easy\"\"\""
   ]
  },
  {
   "cell_type": "code",
   "execution_count": 60,
   "id": "69e96d23-736e-45b6-bf17-41b3ba95bff4",
   "metadata": {},
   "outputs": [
    {
     "ename": "SyntaxError",
     "evalue": "cannot assign to True (2901901490.py, line 4)",
     "output_type": "error",
     "traceback": [
      "\u001b[1;36m  Cell \u001b[1;32mIn[60], line 4\u001b[1;36m\u001b[0m\n\u001b[1;33m    True=10 #f\u001b[0m\n\u001b[1;37m    ^\u001b[0m\n\u001b[1;31mSyntaxError\u001b[0m\u001b[1;31m:\u001b[0m cannot assign to True\n"
     ]
    }
   ],
   "source": [
    "true=True #works\n",
    "true='True' #w\n",
    "true=10.5 #w\n",
    "True= 10 #f\n",
    "True= True #f"
   ]
  },
  {
   "cell_type": "code",
   "execution_count": null,
   "id": "8c94968f-606b-4a59-b4d4-60ef96c00f01",
   "metadata": {},
   "outputs": [],
   "source": []
  }
 ],
 "metadata": {
  "kernelspec": {
   "display_name": "Python [conda env:base] *",
   "language": "python",
   "name": "conda-base-py"
  },
  "language_info": {
   "codemirror_mode": {
    "name": "ipython",
    "version": 3
   },
   "file_extension": ".py",
   "mimetype": "text/x-python",
   "name": "python",
   "nbconvert_exporter": "python",
   "pygments_lexer": "ipython3",
   "version": "3.12.7"
  }
 },
 "nbformat": 4,
 "nbformat_minor": 5
}
